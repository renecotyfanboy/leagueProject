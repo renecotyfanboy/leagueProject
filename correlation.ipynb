{
 "cells": [
  {
   "cell_type": "code",
   "execution_count": 1,
   "id": "a874e238-13ea-425f-b1ef-c92f16cf2363",
   "metadata": {
    "ExecuteTime": {
     "end_time": "2024-05-05T14:32:46.377296Z",
     "start_time": "2024-05-05T14:32:46.373049Z"
    }
   },
   "outputs": [],
   "source": [
    "tier_list = ['IRON', 'BRONZE', 'SILVER', 'GOLD', 'EMERALD', 'PLATINUM', 'DIAMOND', 'MASTER', 'GRANDMASTER', 'CHALLENGER']\n",
    "division_list = ['I', 'II', 'III', 'IV'][::-1]\n",
    "new_tier_list = []\n",
    "\n",
    "for tier in tier_list:\n",
    "\n",
    "    if tier not in ['MASTER', 'GRANDMASTER', 'CHALLENGER']:\n",
    "\n",
    "        for division in division_list:\n",
    "\n",
    "            new_tier_list.append(f'{tier}_{division}')\n",
    "\n",
    "tier_list = new_tier_list + ['MASTER', 'GRANDMASTER', 'CHALLENGER']"
   ]
  },
  {
   "cell_type": "code",
   "execution_count": 4,
   "id": "7c0af04b-7369-4986-abfb-c41ab876fc2e",
   "metadata": {
    "ExecuteTime": {
     "end_time": "2024-05-05T14:33:10.559828Z",
     "start_time": "2024-05-05T14:33:06.324990Z"
    }
   },
   "outputs": [],
   "source": [
    "import polars as pl\n",
    "\n",
    "columns = ['elo', 'puuid', 'gameStartTimestamp', 'is_in_reference_sample', 'win']\n",
    "df = pl.read_csv(\"league_dataframe.csv\", columns=columns)\n",
    "unique_elo = df.filter(is_in_reference_sample=True)['elo'].unique()\n",
    "\n",
    "history = {}\n",
    "\n",
    "for elo in unique_elo:\n",
    "    loc_df = df.filter(elo=elo, is_in_reference_sample=True)\n",
    "    history[elo] = {}\n",
    "    unique_puuid = loc_df['puuid'].unique()\n",
    "    \n",
    "    for puuid in unique_puuid:\n",
    "\n",
    "        loc_history = loc_df.filter(puuid=puuid)\n",
    "        history[elo][puuid] = list(loc_history.sort(by='gameStartTimestamp')['win'])"
   ]
  },
  {
   "cell_type": "code",
   "execution_count": 5,
   "id": "7f17616f-5b2c-44c3-90c6-f0ecacd51841",
   "metadata": {
    "ExecuteTime": {
     "end_time": "2024-05-05T14:33:14.261744Z",
     "start_time": "2024-05-05T14:33:14.258585Z"
    }
   },
   "outputs": [],
   "source": [
    "import pickle\n",
    "\n",
    "colors = ['#645552']*4 + ['#BC8469']*4 + ['#859FAC']*4 + ['#EBC877']*4 + ['#168E47']*4 + ['#56D3CB']*4 + ['#6EE7F0']*4 + ['#B450DD'] + ['#D0472F'] + ['#E2C181']"
   ]
  },
  {
   "cell_type": "code",
   "execution_count": 6,
   "id": "1a82295d-6d56-4d53-a0af-537703c66a2b",
   "metadata": {
    "ExecuteTime": {
     "end_time": "2024-05-05T14:33:31.522351Z",
     "start_time": "2024-05-05T14:33:15.126584Z"
    }
   },
   "outputs": [
    {
     "name": "stderr",
     "output_type": "stream",
     "text": [
      "/Users/sdupourque/opt/anaconda3/envs/truskill2/lib/python3.11/site-packages/statsmodels/tsa/stattools.py:693: RuntimeWarning: invalid value encountered in divide\n",
      "  acf = avf[: nlags + 1] / avf[0]\n"
     ]
    }
   ],
   "source": [
    "from jax.tree_util import tree_map\n",
    "from statsmodels.tsa.stattools import acf\n",
    "\n",
    "autocorrelation = tree_map(lambda x : acf(x, nlags = 10)[1:], history)"
   ]
  },
  {
   "cell_type": "code",
   "execution_count": 11,
   "id": "1612b479-9e30-4a15-a3a2-5a1673b852ad",
   "metadata": {
    "ExecuteTime": {
     "end_time": "2024-05-05T14:35:46.460019Z",
     "start_time": "2024-05-05T14:35:46.455059Z"
    }
   },
   "outputs": [],
   "source": [
    "colors = ['#645552']*4 + ['#BC8469']*4 + ['#859FAC']*4 + ['#EBC877']*4 + ['#168E47']*4 + ['#56D3CB']*4 + ['#6EE7F0']*4 + ['#B450DD'] + ['#D0472F'] + ['#E2C181']\n",
    "\n",
    "\n",
    "tier_list = ['IRON', 'BRONZE', 'SILVER', 'GOLD', 'PLATINUM', 'EMERALD', 'DIAMOND', 'MASTER', 'GRANDMASTER', 'CHALLENGER']\n",
    "division_list = ['I', 'II', 'III', 'IV'][::-1]\n",
    "new_tier_list = []\n",
    "\n",
    "for tier in tier_list:\n",
    "\n",
    "    if tier not in ['MASTER', 'GRANDMASTER', 'CHALLENGER']:\n",
    "\n",
    "        for division in division_list:\n",
    "\n",
    "            new_tier_list.append(f'{tier}_{division}')\n",
    "\n",
    "tier_list = new_tier_list + ['MASTER', 'GRANDMASTER', 'CHALLENGER']"
   ]
  },
  {
   "cell_type": "code",
   "execution_count": 12,
   "id": "141db3d5-8b99-4213-b7fd-c8c637d1fc98",
   "metadata": {
    "ExecuteTime": {
     "end_time": "2024-05-05T14:35:52.069924Z",
     "start_time": "2024-05-05T14:35:47.682157Z"
    }
   },
   "outputs": [
    {
     "ename": "ValueError",
     "evalue": "x and y must have same first dimension, but have shapes (10,) and (0,)",
     "output_type": "error",
     "traceback": [
      "\u001B[0;31m---------------------------------------------------------------------------\u001B[0m",
      "\u001B[0;31mValueError\u001B[0m                                Traceback (most recent call last)",
      "Cell \u001B[0;32mIn[12], line 47\u001B[0m\n\u001B[1;32m     45\u001B[0m auto_corr_tier \u001B[38;5;241m=\u001B[39m np\u001B[38;5;241m.\u001B[39mvstack(\u001B[38;5;28mlist\u001B[39m(autocorrelation[tier]\u001B[38;5;241m.\u001B[39mvalues()))\n\u001B[1;32m     46\u001B[0m name \u001B[38;5;241m=\u001B[39m tier\u001B[38;5;241m.\u001B[39mreplace(\u001B[38;5;124m'\u001B[39m\u001B[38;5;124m_\u001B[39m\u001B[38;5;124m'\u001B[39m, \u001B[38;5;124m'\u001B[39m\u001B[38;5;124m \u001B[39m\u001B[38;5;124m'\u001B[39m)\n\u001B[0;32m---> 47\u001B[0m \u001B[43maxs\u001B[49m\u001B[43m[\u001B[49m\u001B[43mname\u001B[49m\u001B[43m]\u001B[49m\u001B[38;5;241;43m.\u001B[39;49m\u001B[43mplot\u001B[49m\u001B[43m(\u001B[49m\n\u001B[1;32m     48\u001B[0m \u001B[43m    \u001B[49m\u001B[43mlags\u001B[49m\u001B[43m,\u001B[49m\u001B[43m \u001B[49m\n\u001B[1;32m     49\u001B[0m \u001B[43m    \u001B[49m\u001B[43mnp\u001B[49m\u001B[38;5;241;43m.\u001B[39;49m\u001B[43mmedian\u001B[49m\u001B[43m(\u001B[49m\u001B[43mauto_corr_tier\u001B[49m\u001B[43m,\u001B[49m\u001B[43m \u001B[49m\u001B[43maxis\u001B[49m\u001B[38;5;241;43m=\u001B[39;49m\u001B[38;5;241;43m0\u001B[39;49m\u001B[43m)\u001B[49m\u001B[43m,\u001B[49m\u001B[43m \u001B[49m\n\u001B[1;32m     50\u001B[0m \u001B[43m    \u001B[49m\u001B[43mmarker\u001B[49m\u001B[43m \u001B[49m\u001B[38;5;241;43m=\u001B[39;49m\u001B[43m \u001B[49m\u001B[38;5;124;43m'\u001B[39;49m\u001B[38;5;124;43mo\u001B[39;49m\u001B[38;5;124;43m'\u001B[39;49m\u001B[43m,\u001B[49m\u001B[43m \u001B[49m\u001B[43mlabel\u001B[49m\u001B[38;5;241;43m=\u001B[39;49m\u001B[38;5;124;43m'\u001B[39;49m\u001B[38;5;124;43mMedian\u001B[39;49m\u001B[38;5;124;43m'\u001B[39;49m\u001B[43m,\u001B[49m\u001B[43m \u001B[49m\u001B[43mcolor\u001B[49m\u001B[38;5;241;43m=\u001B[39;49m\u001B[43mcolor\u001B[49m\n\u001B[1;32m     51\u001B[0m \u001B[43m\u001B[49m\u001B[43m)\u001B[49m\n\u001B[1;32m     52\u001B[0m axs[name]\u001B[38;5;241m.\u001B[39mfill_between(lags, \u001B[38;5;241m*\u001B[39mnp\u001B[38;5;241m.\u001B[39mpercentile(auto_corr_tier, [\u001B[38;5;241m5\u001B[39m, \u001B[38;5;241m95\u001B[39m], axis\u001B[38;5;241m=\u001B[39m\u001B[38;5;241m0\u001B[39m), alpha\u001B[38;5;241m=\u001B[39m\u001B[38;5;241m0.4\u001B[39m, label\u001B[38;5;241m=\u001B[39m\u001B[38;5;124m'\u001B[39m\u001B[38;5;124m(5-95)\u001B[39m\u001B[38;5;124m%\u001B[39m\u001B[38;5;124m'\u001B[39m, color\u001B[38;5;241m=\u001B[39mcolor)\n\u001B[1;32m     53\u001B[0m axs[name]\u001B[38;5;241m.\u001B[39mplot(lags, auto_corr_tier\u001B[38;5;241m.\u001B[39mT, color\u001B[38;5;241m=\u001B[39m\u001B[38;5;124m'\u001B[39m\u001B[38;5;124mgrey\u001B[39m\u001B[38;5;124m'\u001B[39m, alpha\u001B[38;5;241m=\u001B[39m\u001B[38;5;241m0.07\u001B[39m, linestyle\u001B[38;5;241m=\u001B[39m\u001B[38;5;124m'\u001B[39m\u001B[38;5;124mdashdot\u001B[39m\u001B[38;5;124m'\u001B[39m)\n",
      "File \u001B[0;32m~/opt/anaconda3/envs/truskill2/lib/python3.11/site-packages/matplotlib/axes/_axes.py:1721\u001B[0m, in \u001B[0;36mAxes.plot\u001B[0;34m(self, scalex, scaley, data, *args, **kwargs)\u001B[0m\n\u001B[1;32m   1478\u001B[0m \u001B[38;5;250m\u001B[39m\u001B[38;5;124;03m\"\"\"\u001B[39;00m\n\u001B[1;32m   1479\u001B[0m \u001B[38;5;124;03mPlot y versus x as lines and/or markers.\u001B[39;00m\n\u001B[1;32m   1480\u001B[0m \n\u001B[0;32m   (...)\u001B[0m\n\u001B[1;32m   1718\u001B[0m \u001B[38;5;124;03m(``'green'``) or hex strings (``'#008000'``).\u001B[39;00m\n\u001B[1;32m   1719\u001B[0m \u001B[38;5;124;03m\"\"\"\u001B[39;00m\n\u001B[1;32m   1720\u001B[0m kwargs \u001B[38;5;241m=\u001B[39m cbook\u001B[38;5;241m.\u001B[39mnormalize_kwargs(kwargs, mlines\u001B[38;5;241m.\u001B[39mLine2D)\n\u001B[0;32m-> 1721\u001B[0m lines \u001B[38;5;241m=\u001B[39m [\u001B[38;5;241m*\u001B[39m\u001B[38;5;28mself\u001B[39m\u001B[38;5;241m.\u001B[39m_get_lines(\u001B[38;5;28mself\u001B[39m, \u001B[38;5;241m*\u001B[39margs, data\u001B[38;5;241m=\u001B[39mdata, \u001B[38;5;241m*\u001B[39m\u001B[38;5;241m*\u001B[39mkwargs)]\n\u001B[1;32m   1722\u001B[0m \u001B[38;5;28;01mfor\u001B[39;00m line \u001B[38;5;129;01min\u001B[39;00m lines:\n\u001B[1;32m   1723\u001B[0m     \u001B[38;5;28mself\u001B[39m\u001B[38;5;241m.\u001B[39madd_line(line)\n",
      "File \u001B[0;32m~/opt/anaconda3/envs/truskill2/lib/python3.11/site-packages/matplotlib/axes/_base.py:303\u001B[0m, in \u001B[0;36m_process_plot_var_args.__call__\u001B[0;34m(self, axes, data, *args, **kwargs)\u001B[0m\n\u001B[1;32m    301\u001B[0m     this \u001B[38;5;241m+\u001B[39m\u001B[38;5;241m=\u001B[39m args[\u001B[38;5;241m0\u001B[39m],\n\u001B[1;32m    302\u001B[0m     args \u001B[38;5;241m=\u001B[39m args[\u001B[38;5;241m1\u001B[39m:]\n\u001B[0;32m--> 303\u001B[0m \u001B[38;5;28;01myield from\u001B[39;00m \u001B[38;5;28;43mself\u001B[39;49m\u001B[38;5;241;43m.\u001B[39;49m\u001B[43m_plot_args\u001B[49m\u001B[43m(\u001B[49m\n\u001B[1;32m    304\u001B[0m \u001B[43m    \u001B[49m\u001B[43maxes\u001B[49m\u001B[43m,\u001B[49m\u001B[43m \u001B[49m\u001B[43mthis\u001B[49m\u001B[43m,\u001B[49m\u001B[43m \u001B[49m\u001B[43mkwargs\u001B[49m\u001B[43m,\u001B[49m\u001B[43m \u001B[49m\u001B[43mambiguous_fmt_datakey\u001B[49m\u001B[38;5;241;43m=\u001B[39;49m\u001B[43mambiguous_fmt_datakey\u001B[49m\u001B[43m)\u001B[49m\n",
      "File \u001B[0;32m~/opt/anaconda3/envs/truskill2/lib/python3.11/site-packages/matplotlib/axes/_base.py:499\u001B[0m, in \u001B[0;36m_process_plot_var_args._plot_args\u001B[0;34m(self, axes, tup, kwargs, return_kwargs, ambiguous_fmt_datakey)\u001B[0m\n\u001B[1;32m    496\u001B[0m     axes\u001B[38;5;241m.\u001B[39myaxis\u001B[38;5;241m.\u001B[39mupdate_units(y)\n\u001B[1;32m    498\u001B[0m \u001B[38;5;28;01mif\u001B[39;00m x\u001B[38;5;241m.\u001B[39mshape[\u001B[38;5;241m0\u001B[39m] \u001B[38;5;241m!=\u001B[39m y\u001B[38;5;241m.\u001B[39mshape[\u001B[38;5;241m0\u001B[39m]:\n\u001B[0;32m--> 499\u001B[0m     \u001B[38;5;28;01mraise\u001B[39;00m \u001B[38;5;167;01mValueError\u001B[39;00m(\u001B[38;5;124mf\u001B[39m\u001B[38;5;124m\"\u001B[39m\u001B[38;5;124mx and y must have same first dimension, but \u001B[39m\u001B[38;5;124m\"\u001B[39m\n\u001B[1;32m    500\u001B[0m                      \u001B[38;5;124mf\u001B[39m\u001B[38;5;124m\"\u001B[39m\u001B[38;5;124mhave shapes \u001B[39m\u001B[38;5;132;01m{\u001B[39;00mx\u001B[38;5;241m.\u001B[39mshape\u001B[38;5;132;01m}\u001B[39;00m\u001B[38;5;124m and \u001B[39m\u001B[38;5;132;01m{\u001B[39;00my\u001B[38;5;241m.\u001B[39mshape\u001B[38;5;132;01m}\u001B[39;00m\u001B[38;5;124m\"\u001B[39m)\n\u001B[1;32m    501\u001B[0m \u001B[38;5;28;01mif\u001B[39;00m x\u001B[38;5;241m.\u001B[39mndim \u001B[38;5;241m>\u001B[39m \u001B[38;5;241m2\u001B[39m \u001B[38;5;129;01mor\u001B[39;00m y\u001B[38;5;241m.\u001B[39mndim \u001B[38;5;241m>\u001B[39m \u001B[38;5;241m2\u001B[39m:\n\u001B[1;32m    502\u001B[0m     \u001B[38;5;28;01mraise\u001B[39;00m \u001B[38;5;167;01mValueError\u001B[39;00m(\u001B[38;5;124mf\u001B[39m\u001B[38;5;124m\"\u001B[39m\u001B[38;5;124mx and y can be no greater than 2D, but have \u001B[39m\u001B[38;5;124m\"\u001B[39m\n\u001B[1;32m    503\u001B[0m                      \u001B[38;5;124mf\u001B[39m\u001B[38;5;124m\"\u001B[39m\u001B[38;5;124mshapes \u001B[39m\u001B[38;5;132;01m{\u001B[39;00mx\u001B[38;5;241m.\u001B[39mshape\u001B[38;5;132;01m}\u001B[39;00m\u001B[38;5;124m and \u001B[39m\u001B[38;5;132;01m{\u001B[39;00my\u001B[38;5;241m.\u001B[39mshape\u001B[38;5;132;01m}\u001B[39;00m\u001B[38;5;124m\"\u001B[39m)\n",
      "\u001B[0;31mValueError\u001B[0m: x and y must have same first dimension, but have shapes (10,) and (0,)"
     ]
    },
    {
     "data": {
      "text/plain": "<Figure size 1200x2000 with 32 Axes>",
      "image/png": "[encoded data removed]"
     },
     "metadata": {},
     "output_type": "display_data"
    }
   ],
   "source": [
    "import matplotlib.pyplot as plt \n",
    "import numpy as np\n",
    "from matplotlib.ticker import MultipleLocator\n",
    "\n",
    "mosaic = [\n",
    "    ['Demo']*6+ ['CHALLENGER']*6 + ['GRANDMASTER']*6 + ['MASTER']*6,\n",
    "    ['DIAMOND I']*6 + ['DIAMOND II']*6 + ['DIAMOND III']*6 + ['DIAMOND IV']*6,\n",
    "    ['EMERALD I']*6 + ['EMERALD II']*6 + ['EMERALD III']*6 + ['EMERALD IV']*6,\n",
    "    ['PLATINUM I']*6 + ['PLATINUM II']*6 + ['PLATINUM III']*6 + ['PLATINUM IV']*6,\n",
    "    ['GOLD I']*6 + ['GOLD II']*6 + ['GOLD III']*6 + ['GOLD IV']*6,\n",
    "    ['SILVER I']*6 + ['SILVER II']*6 + ['SILVER III']*6 + ['SILVER IV']*6,\n",
    "    ['BRONZE I']*6 + ['BRONZE II']*6 + ['BRONZE III']*6 + ['BRONZE IV']*6,\n",
    "    ['IRON I']*6 + ['IRON II']*6 + ['IRON III']*6 + ['IRON IV']*6,\n",
    "]\n",
    "\n",
    "lags = np.arange(1, 11)\n",
    "\n",
    "fig, axs = plt.subplot_mosaic(mosaic, sharex=True, sharey=True, figsize=(12,20))\n",
    "axs['Demo'].set_xlim(1, 10)\n",
    "axs['Demo'].set_ylim(-1, 1)\n",
    "axs['Demo'].set_title('How to read this ?')\n",
    "\n",
    "axs['Demo'].text(5.5, -0.9, \"Gap between games\", ha=\"center\", va=\"center\", rotation=0, size=7,\n",
    "            bbox=dict(boxstyle=\"darrow,pad=0.3\",\n",
    "                      fc=\"lightgray\", ec=\"black\"))\n",
    "\n",
    "axs['Demo'].text(9.75, 0, \"Correlation\", ha=\"center\", va=\"center\", rotation=90, size=7,\n",
    "            bbox=dict(boxstyle=\"darrow,pad=0.3\",\n",
    "                      fc=\"lightgray\", ec=\"black\"))\n",
    "\n",
    "axs['Demo'].plot(lags, np.zeros_like(lags), marker = 'o', color='black', label='Random', alpha=0.8)\n",
    "axs['Demo'].fill_between(lags, -0.2*np.ones_like(lags), +0.2*np.ones_like(lags), alpha=0.2, color='black')\n",
    "\n",
    "axs['Demo'].plot(lags, np.exp(-lags/3), marker = 'o', color='green', label='Streak pattern', alpha=0.8)\n",
    "axs['Demo'].fill_between(lags, np.exp(-lags/3)-0.2, np.exp(-lags/3)+0.2, alpha=0.2, color='green')\n",
    "\n",
    "axs['Demo'].plot(lags, -np.exp(-lags/3), marker = 'o', color='red', label='Anti-Streak pattern', alpha=0.8)\n",
    "axs['Demo'].fill_between(lags, -np.exp(-lags/3)-0.2, -np.exp(-lags/3)+0.2, alpha=0.2, color='red')\n",
    "\n",
    "axs['Demo'].legend(prop={'size': 6})\n",
    "\n",
    "for i, (tier, color) in enumerate(zip(tier_list, colors)):\n",
    "\n",
    "\n",
    "    auto_corr_tier = np.vstack(list(autocorrelation[tier].values()))\n",
    "    name = tier.replace('_', ' ')\n",
    "    axs[name].plot(\n",
    "        lags, \n",
    "        np.median(auto_corr_tier, axis=0), \n",
    "        marker = 'o', label='Median', color=color\n",
    "    )\n",
    "    axs[name].fill_between(lags, *np.percentile(auto_corr_tier, [5, 95], axis=0), alpha=0.4, label='(5-95)%', color=color)\n",
    "    axs[name].plot(lags, auto_corr_tier.T, color='grey', alpha=0.07, linestyle='dashdot')\n",
    "    axs[name].grid(which='both')\n",
    "    \n",
    "    axs[name].xaxis.set_minor_locator(MultipleLocator(1))\n",
    "    axs[name].yaxis.set_minor_locator(MultipleLocator(0.25))\n",
    "    axs[name].set_title(name)\n",
    "    axs[name].legend()\n",
    "\n",
    "fig.add_subplot(111, frameon=False)\n",
    "# hide tick and tick label of the big axis\n",
    "plt.tick_params(labelcolor='none', which='both', top=False, bottom=False, left=False, right=False)\n",
    "plt.xlabel(\"Lag between games\")\n",
    "plt.ylabel(\"Correlation\")\n",
    "plt.savefig('autocorrelation.pdf', dpi=300, bbox_inches='tight')"
   ]
  },
  {
   "cell_type": "code",
   "execution_count": 13,
   "id": "50aa6fce-fcbd-4d69-aed8-bb63b246b1e7",
   "metadata": {
    "ExecuteTime": {
     "end_time": "2024-05-05T14:35:59.896337Z",
     "start_time": "2024-05-05T14:35:59.443541Z"
    }
   },
   "outputs": [],
   "source": [
    "import numpy as np \n",
    "\n",
    "simulation_size = 99\n",
    "p = 1/2\n",
    "p_streak = 0.8\n",
    "\n",
    "history_random_list = []\n",
    "history_correlated_list = []\n",
    "history_anticorrelated_list = []\n",
    "\n",
    "for i in range(1000):\n",
    "\n",
    "    history_random = [0]\n",
    "    history_correlated = [0]\n",
    "    history_anticorrelated = [0]\n",
    "\n",
    "    for _ in range(simulation_size):\n",
    "        \n",
    "        #previous = history_streak[-1]\n",
    "        history_random.append(np.random.binomial(1, p))\n",
    "        history_correlated.append(np.random.binomial(1, p_streak if history_correlated[-1] else 1 - p_streak))\n",
    "        history_anticorrelated.append(np.random.binomial(1, p_streak if not history_anticorrelated[-1] else 1 - p_streak))\n",
    "\n",
    "    history_random_list.append(history_random)\n",
    "    history_correlated_list.append(history_correlated)\n",
    "    history_anticorrelated_list.append(history_anticorrelated)\n",
    "\n",
    "history_random = np.apply_along_axis(acf, 1, np.asarray(history_random_list), nlags = 10)[..., 1:]\n",
    "history_correlated = np.apply_along_axis(acf, 1, np.asarray(history_correlated_list), nlags = 10)[..., 1:]\n",
    "history_anticorrelated = np.apply_along_axis(acf, 1, np.asarray(history_anticorrelated_list), nlags = 10)[..., 1:]"
   ]
  },
  {
   "cell_type": "code",
   "execution_count": 14,
   "id": "43c02b57-19f3-4a54-93b8-ec7bd674d3d8",
   "metadata": {
    "ExecuteTime": {
     "end_time": "2024-05-05T14:36:01.436742Z",
     "start_time": "2024-05-05T14:36:01.264105Z"
    }
   },
   "outputs": [
    {
     "data": {
      "text/plain": "<matplotlib.collections.PolyCollection at 0x1529bed50>"
     },
     "execution_count": 14,
     "metadata": {},
     "output_type": "execute_result"
    },
    {
     "data": {
      "text/plain": "<Figure size 640x480 with 1 Axes>",
      "image/png": "[encoded data removed]"
     },
     "metadata": {},
     "output_type": "display_data"
    }
   ],
   "source": [
    "plt.plot(np.arange(10), np.median(history_random, axis=0))\n",
    "plt.fill_between(np.arange(10), *np.percentile(history_random, [5, 95], axis=0), alpha=0.2)\n",
    "plt.plot(np.arange(10), np.median(history_correlated, axis=0))\n",
    "plt.fill_between(np.arange(10), *np.percentile(history_correlated, [5, 95], axis=0), alpha=0.2)\n",
    "plt.plot(np.arange(10), np.median(history_anticorrelated, axis=0))\n",
    "plt.fill_between(np.arange(10), *np.percentile(history_anticorrelated, [5, 95], axis=0), alpha=0.2)"
   ]
  },
  {
   "cell_type": "code",
   "execution_count": 16,
   "id": "d6e40b4e-d6d4-4494-ab7d-785bfbd7b943",
   "metadata": {
    "scrolled": true,
    "ExecuteTime": {
     "end_time": "2024-05-05T14:36:45.700992Z",
     "start_time": "2024-05-05T14:36:45.622739Z"
    }
   },
   "outputs": [
    {
     "data": {
      "application/vnd.plotly.v1+json": {
       "data": [
        {
         "colorscale": [
          [
           0,
           "mediumvioletred"
          ],
          [
           1,
           "mediumseagreen"
          ]
         ],
         "showscale": false,
         "z": [
          [
           0,
           1,
           1,
           1,
           1,
           1,
           1,
           0,
           1,
           0,
           0,
           1,
           1,
           1,
           1,
           0,
           0,
           0,
           1,
           1,
           0,
           0,
           0,
           0,
           1,
           1,
           0,
           0,
           1,
           1,
           1,
           0,
           1,
           0,
           0,
           0,
           0,
           0,
           0,
           1,
           1,
           1,
           1,
           1,
           0,
           0,
           0,
           1,
           0,
           0,
           1,
           0,
           0,
           1,
           1,
           1,
           0,
           0,
           1
          ],
          [
           0,
           1,
           1,
           1,
           1,
           1,
           0,
           1,
           1,
           1,
           0,
           0,
           0,
           1,
           1,
           0,
           1,
           0,
           0,
           0,
           1,
           1,
           0,
           1,
           0,
           0,
           1,
           1,
           0,
           1,
           0,
           0,
           1,
           1,
           0,
           1,
           1,
           1,
           0,
           1,
           0,
           1,
           1,
           1,
           0,
           1,
           0,
           1,
           1,
           0,
           0,
           1,
           1,
           0,
           1,
           0,
           1,
           0,
           1
          ],
          [
           1,
           0,
           1,
           0,
           1,
           0,
           0,
           0,
           0,
           0,
           1,
           0,
           1,
           1,
           0,
           0,
           0,
           1,
           0,
           1,
           1,
           1,
           1,
           1,
           1,
           0,
           0,
           0,
           1,
           0,
           0,
           0,
           0,
           1,
           0,
           0,
           0,
           1,
           1,
           1,
           1,
           1,
           0,
           1,
           1,
           1,
           0,
           0,
           0,
           1,
           1,
           0,
           0,
           0,
           0,
           1,
           1,
           0,
           0
          ],
          [
           0,
           0,
           1,
           0,
           0,
           1,
           0,
           1,
           1,
           1,
           0,
           0,
           0,
           1,
           0,
           0,
           0,
           1,
           1,
           0,
           0,
           1,
           1,
           0,
           1,
           0,
           0,
           1,
           1,
           1,
           0,
           0,
           1,
           0,
           1,
           0,
           1,
           0,
           0,
           1,
           1,
           1,
           1,
           1,
           0,
           0,
           1,
           0,
           1,
           0,
           0,
           0,
           0,
           0,
           1,
           1,
           0,
           1,
           1
          ],
          [
           1,
           1,
           1,
           1,
           1,
           1,
           0,
           1,
           1,
           1,
           0,
           1,
           0,
           1,
           0,
           1,
           1,
           1,
           1,
           1,
           1,
           0,
           1,
           1,
           1,
           0,
           1,
           0,
           0,
           1,
           0,
           1,
           0,
           0,
           1,
           1,
           1,
           1,
           0,
           1,
           0,
           0,
           1,
           0,
           1,
           0,
           0,
           1,
           1,
           0,
           0,
           1,
           0,
           1,
           1,
           0,
           0,
           0,
           1
          ],
          [
           1,
           0,
           1,
           1,
           1,
           1,
           0,
           1,
           1,
           0,
           0,
           1,
           0,
           1,
           0,
           0,
           0,
           1,
           1,
           1,
           0,
           0,
           1,
           1,
           1,
           0,
           0,
           0,
           1,
           1,
           0,
           0,
           1,
           0,
           1,
           1,
           1,
           1,
           0,
           0,
           1,
           0,
           0,
           0,
           0,
           0,
           1,
           0,
           1,
           1,
           0,
           0,
           1,
           0,
           1,
           1,
           1,
           0,
           1
          ],
          [
           1,
           1,
           0,
           1,
           1,
           0,
           0,
           1,
           0,
           0,
           0,
           1,
           1,
           1,
           0,
           0,
           0,
           1,
           0,
           1,
           1,
           0,
           0,
           0,
           1,
           1,
           0,
           1,
           1,
           1,
           1,
           0,
           1,
           0,
           0,
           1,
           1,
           1,
           1,
           1,
           1,
           0,
           0,
           1,
           1,
           1,
           1,
           0,
           1,
           0,
           1,
           0,
           1,
           0,
           1,
           0,
           0,
           0,
           1
          ],
          [
           0,
           0,
           1,
           1,
           0,
           0,
           0,
           1,
           1,
           0,
           1,
           0,
           0,
           1,
           1,
           0,
           1,
           1,
           0,
           1,
           0,
           0,
           0,
           0,
           1,
           0,
           0,
           0,
           1,
           0,
           0,
           0,
           0,
           0,
           0,
           1,
           0,
           1,
           1,
           0,
           0,
           1,
           1,
           1,
           1,
           0,
           1,
           1,
           0,
           1,
           1,
           1,
           0,
           1,
           0,
           0,
           1,
           0,
           0
          ],
          [
           0,
           0,
           1,
           0,
           1,
           0,
           1,
           1,
           1,
           1,
           1,
           0,
           1,
           0,
           0,
           0,
           0,
           1,
           1,
           0,
           1,
           1,
           1,
           0,
           0,
           1,
           1,
           1,
           1,
           1,
           0,
           1,
           1,
           0,
           1,
           0,
           1,
           1,
           1,
           1,
           1,
           0,
           1,
           0,
           0,
           0,
           0,
           0,
           1,
           0,
           0,
           0,
           1,
           0,
           0,
           0,
           1,
           0,
           1
          ],
          [
           1,
           1,
           0,
           0,
           0,
           0,
           1,
           1,
           1,
           0,
           1,
           0,
           1,
           0,
           0,
           1,
           1,
           0,
           1,
           0,
           0,
           1,
           1,
           0,
           0,
           1,
           0,
           1,
           0,
           1,
           1,
           0,
           1,
           0,
           0,
           1,
           0,
           1,
           1,
           0,
           1,
           1,
           1,
           1,
           0,
           0,
           0,
           0,
           1,
           1,
           0,
           1,
           1,
           0,
           0,
           0,
           0,
           1,
           1
          ]
         ],
         "type": "heatmap",
         "xaxis": "x2",
         "yaxis": "y2"
        },
        {
         "colorscale": [
          [
           0,
           "mediumvioletred"
          ],
          [
           1,
           "mediumseagreen"
          ]
         ],
         "showscale": false,
         "z": [
          [
           0,
           1,
           1,
           1,
           1,
           1,
           1,
           0,
           0,
           0,
           0,
           1,
           1,
           1,
           0,
           0,
           0,
           0,
           0,
           0,
           0,
           0,
           0,
           0,
           0,
           1,
           1,
           1,
           1,
           1,
           1,
           1,
           1,
           1,
           0,
           0,
           0,
           0,
           0,
           0,
           0,
           0,
           0,
           0,
           0,
           0,
           0,
           0,
           0,
           0,
           1,
           1,
           1,
           1,
           1,
           1,
           1,
           0,
           0
          ],
          [
           1,
           1,
           1,
           1,
           1,
           1,
           0,
           1,
           1,
           1,
           1,
           1,
           1,
           1,
           0,
           0,
           0,
           0,
           0,
           0,
           0,
           0,
           1,
           1,
           1,
           1,
           1,
           1,
           1,
           1,
           1,
           1,
           1,
           0,
           0,
           0,
           0,
           0,
           0,
           0,
           0,
           1,
           1,
           0,
           0,
           0,
           0,
           0,
           0,
           0,
           0,
           0,
           0,
           0,
           0,
           0,
           1,
           1,
           1
          ],
          [
           0,
           0,
           0,
           0,
           0,
           0,
           0,
           0,
           0,
           1,
           1,
           1,
           1,
           1,
           1,
           1,
           1,
           1,
           0,
           0,
           0,
           1,
           1,
           0,
           0,
           1,
           1,
           1,
           1,
           1,
           1,
           0,
           0,
           0,
           0,
           0,
           0,
           0,
           0,
           0,
           0,
           0,
           0,
           0,
           0,
           0,
           0,
           0,
           1,
           1,
           1,
           1,
           1,
           1,
           1,
           1,
           0,
           1,
           1
          ],
          [
           0,
           0,
           0,
           0,
           0,
           0,
           0,
           0,
           0,
           1,
           1,
           1,
           1,
           1,
           0,
           0,
           0,
           0,
           0,
           0,
           0,
           0,
           0,
           1,
           0,
           0,
           0,
           0,
           1,
           1,
           1,
           1,
           1,
           1,
           1,
           0,
           0,
           0,
           0,
           0,
           0,
           0,
           0,
           0,
           0,
           0,
           0,
           1,
           1,
           0,
           1,
           1,
           1,
           1,
           1,
           1,
           1,
           1,
           1
          ],
          [
           0,
           0,
           0,
           0,
           0,
           0,
           0,
           0,
           0,
           0,
           0,
           0,
           0,
           0,
           0,
           0,
           0,
           0,
           0,
           0,
           1,
           1,
           0,
           0,
           0,
           0,
           0,
           0,
           1,
           0,
           0,
           0,
           0,
           1,
           1,
           0,
           1,
           1,
           1,
           0,
           0,
           0,
           0,
           0,
           0,
           0,
           0,
           0,
           0,
           0,
           0,
           0,
           0,
           0,
           0,
           0,
           0,
           0,
           0
          ],
          [
           0,
           1,
           1,
           0,
           0,
           0,
           0,
           0,
           1,
           0,
           0,
           0,
           1,
           1,
           1,
           1,
           1,
           1,
           0,
           0,
           0,
           1,
           1,
           0,
           0,
           0,
           0,
           0,
           0,
           0,
           0,
           0,
           0,
           0,
           0,
           0,
           1,
           1,
           1,
           1,
           0,
           0,
           0,
           0,
           0,
           0,
           0,
           0,
           0,
           1,
           1,
           0,
           0,
           0,
           0,
           0,
           0,
           0,
           0
          ],
          [
           0,
           0,
           0,
           0,
           0,
           0,
           0,
           1,
           0,
           1,
           1,
           1,
           1,
           1,
           1,
           1,
           0,
           1,
           1,
           1,
           1,
           0,
           0,
           0,
           0,
           0,
           1,
           1,
           1,
           1,
           1,
           1,
           1,
           1,
           1,
           1,
           1,
           0,
           0,
           0,
           0,
           0,
           0,
           0,
           0,
           0,
           0,
           0,
           1,
           1,
           1,
           1,
           1,
           1,
           1,
           1,
           1,
           0,
           1
          ],
          [
           0,
           0,
           0,
           0,
           0,
           1,
           1,
           1,
           1,
           1,
           1,
           1,
           1,
           1,
           0,
           0,
           0,
           0,
           0,
           0,
           0,
           0,
           1,
           1,
           1,
           1,
           1,
           1,
           1,
           0,
           1,
           1,
           1,
           0,
           0,
           0,
           0,
           0,
           0,
           0,
           0,
           0,
           0,
           0,
           0,
           0,
           0,
           0,
           0,
           1,
           1,
           1,
           0,
           0,
           0,
           1,
           1,
           1,
           1
          ],
          [
           0,
           0,
           0,
           1,
           1,
           1,
           1,
           1,
           1,
           1,
           1,
           1,
           1,
           1,
           1,
           1,
           1,
           1,
           0,
           0,
           1,
           0,
           0,
           1,
           1,
           1,
           1,
           1,
           1,
           1,
           1,
           1,
           1,
           1,
           1,
           1,
           0,
           0,
           0,
           0,
           1,
           1,
           1,
           1,
           0,
           0,
           0,
           0,
           0,
           1,
           1,
           1,
           1,
           1,
           1,
           1,
           1,
           0,
           0
          ],
          [
           0,
           0,
           0,
           1,
           1,
           1,
           0,
           1,
           1,
           1,
           1,
           1,
           0,
           0,
           0,
           0,
           0,
           0,
           0,
           0,
           0,
           0,
           0,
           0,
           0,
           0,
           0,
           0,
           0,
           0,
           0,
           0,
           1,
           1,
           1,
           1,
           1,
           1,
           1,
           1,
           1,
           0,
           0,
           0,
           0,
           0,
           0,
           0,
           0,
           0,
           1,
           1,
           1,
           1,
           0,
           0,
           0,
           0,
           0
          ]
         ],
         "type": "heatmap",
         "xaxis": "x3",
         "yaxis": "y3"
        },
        {
         "colorscale": [
          [
           0,
           "mediumvioletred"
          ],
          [
           1,
           "mediumseagreen"
          ]
         ],
         "showscale": false,
         "z": [
          [
           1,
           0,
           1,
           0,
           0,
           1,
           0,
           1,
           1,
           0,
           1,
           0,
           1,
           0,
           0,
           1,
           0,
           1,
           0,
           1,
           0,
           1,
           0,
           1,
           0,
           1,
           1,
           1,
           0,
           0,
           1,
           1,
           0,
           0,
           1,
           0,
           0,
           1,
           1,
           1,
           0,
           1,
           0,
           1,
           1,
           0,
           0,
           1,
           0,
           0,
           1,
           0,
           1,
           0,
           1,
           0,
           1,
           0,
           1
          ],
          [
           0,
           0,
           1,
           1,
           0,
           1,
           0,
           1,
           1,
           0,
           0,
           1,
           1,
           0,
           1,
           0,
           0,
           0,
           1,
           0,
           1,
           1,
           0,
           1,
           0,
           1,
           0,
           1,
           0,
           1,
           1,
           0,
           1,
           0,
           1,
           0,
           1,
           0,
           1,
           0,
           1,
           0,
           1,
           0,
           1,
           0,
           1,
           0,
           1,
           1,
           1,
           0,
           1,
           1,
           0,
           1,
           0,
           0,
           0
          ],
          [
           1,
           0,
           1,
           0,
           0,
           1,
           0,
           1,
           1,
           0,
           1,
           0,
           1,
           0,
           0,
           1,
           0,
           1,
           0,
           1,
           0,
           1,
           1,
           1,
           1,
           0,
           1,
           0,
           0,
           1,
           0,
           1,
           0,
           0,
           1,
           0,
           1,
           1,
           0,
           1,
           0,
           1,
           0,
           0,
           0,
           1,
           0,
           1,
           1,
           0,
           1,
           0,
           1,
           0,
           1,
           0,
           1,
           0,
           1
          ],
          [
           1,
           0,
           0,
           0,
           0,
           1,
           0,
           1,
           1,
           0,
           1,
           0,
           1,
           0,
           1,
           0,
           1,
           0,
           0,
           1,
           0,
           1,
           0,
           1,
           0,
           0,
           1,
           0,
           0,
           1,
           0,
           1,
           0,
           1,
           0,
           1,
           1,
           0,
           1,
           1,
           0,
           1,
           0,
           1,
           0,
           0,
           1,
           0,
           1,
           0,
           0,
           1,
           0,
           1,
           1,
           1,
           0,
           1,
           0
          ],
          [
           0,
           1,
           0,
           1,
           0,
           1,
           1,
           0,
           1,
           1,
           0,
           1,
           1,
           1,
           0,
           1,
           0,
           1,
           0,
           1,
           0,
           1,
           1,
           0,
           1,
           0,
           0,
           1,
           0,
           1,
           1,
           1,
           1,
           0,
           1,
           0,
           1,
           0,
           1,
           0,
           0,
           1,
           1,
           0,
           1,
           0,
           1,
           1,
           0,
           1,
           0,
           1,
           0,
           1,
           0,
           1,
           0,
           1,
           0
          ],
          [
           1,
           0,
           1,
           0,
           1,
           1,
           0,
           1,
           0,
           1,
           1,
           0,
           1,
           0,
           1,
           0,
           1,
           1,
           0,
           1,
           0,
           1,
           1,
           0,
           1,
           0,
           1,
           0,
           0,
           1,
           1,
           0,
           1,
           0,
           1,
           0,
           1,
           1,
           0,
           0,
           1,
           0,
           1,
           0,
           1,
           0,
           0,
           1,
           1,
           0,
           1,
           0,
           0,
           1,
           0,
           1,
           1,
           0,
           0
          ],
          [
           1,
           1,
           0,
           1,
           1,
           1,
           0,
           1,
           0,
           1,
           0,
           1,
           1,
           0,
           1,
           1,
           0,
           1,
           0,
           1,
           0,
           1,
           0,
           0,
           1,
           1,
           1,
           1,
           0,
           1,
           0,
           0,
           1,
           0,
           1,
           0,
           1,
           0,
           1,
           1,
           0,
           1,
           0,
           0,
           1,
           0,
           1,
           0,
           1,
           0,
           1,
           0,
           1,
           0,
           1,
           0,
           0,
           1,
           1
          ],
          [
           1,
           0,
           1,
           0,
           1,
           0,
           1,
           0,
           1,
           0,
           1,
           0,
           0,
           0,
           1,
           0,
           1,
           0,
           1,
           0,
           0,
           0,
           0,
           1,
           0,
           1,
           0,
           1,
           0,
           1,
           0,
           1,
           0,
           1,
           0,
           0,
           1,
           0,
           1,
           0,
           1,
           0,
           1,
           0,
           0,
           0,
           0,
           1,
           0,
           1,
           0,
           0,
           1,
           0,
           1,
           1,
           1,
           0,
           1
          ],
          [
           1,
           1,
           1,
           0,
           1,
           0,
           1,
           0,
           1,
           0,
           1,
           0,
           1,
           0,
           1,
           0,
           1,
           0,
           1,
           0,
           1,
           0,
           1,
           0,
           1,
           1,
           0,
           1,
           0,
           1,
           0,
           1,
           0,
           1,
           1,
           0,
           1,
           0,
           1,
           1,
           0,
           1,
           0,
           1,
           0,
           1,
           1,
           0,
           1,
           1,
           1,
           0,
           1,
           0,
           1,
           0,
           1,
           1,
           0
          ],
          [
           1,
           0,
           1,
           0,
           1,
           0,
           1,
           0,
           0,
           1,
           0,
           1,
           0,
           1,
           0,
           1,
           0,
           1,
           0,
           1,
           0,
           1,
           0,
           1,
           0,
           1,
           0,
           1,
           0,
           1,
           0,
           0,
           0,
           1,
           0,
           0,
           1,
           0,
           1,
           0,
           1,
           0,
           1,
           0,
           1,
           0,
           0,
           1,
           0,
           0,
           1,
           0,
           0,
           1,
           0,
           0,
           1,
           0,
           1
          ]
         ],
         "type": "heatmap",
         "xaxis": "x4",
         "yaxis": "y4"
        },
        {
         "fill": "toself",
         "fillcolor": "rgba(0,100,80,0.5)",
         "legendgroup": "random",
         "line": {
          "color": "rgba(255,255,255,0)"
         },
         "name": "Random Fill",
         "showlegend": false,
         "x": [
          1,
          2,
          3,
          4,
          5,
          6,
          7,
          8,
          9,
          10,
          10,
          9,
          8,
          7,
          6,
          5,
          4,
          3,
          2,
          1
         ],
         "y": [
          -0.1730590124448013,
          -0.1704761904761904,
          -0.17055233631914296,
          -0.16797611205219898,
          -0.1643610110435245,
          -0.15834190518783545,
          -0.18123666624023,
          -0.16492753623188405,
          -0.1621029858120022,
          -0.1628205128205128,
          0.14977560179518562,
          0.14929487179487178,
          0.15883153261304522,
          0.15897110835515124,
          0.14112856552294326,
          0.14939102564102558,
          0.16002240896358536,
          0.16570759726965545,
          0.15607085346215782,
          0.1480971497390606
         ],
         "type": "scatter",
         "xaxis": "x",
         "yaxis": "y"
        },
        {
         "fill": "toself",
         "fillcolor": "rgba(0,176,246,0.5)",
         "legendgroup": "correlated",
         "line": {
          "color": "rgba(255,255,255,0)"
         },
         "name": "Correlated Fill",
         "showlegend": false,
         "x": [
          1,
          2,
          3,
          4,
          5,
          6,
          7,
          8,
          9,
          10,
          10,
          9,
          8,
          7,
          6,
          5,
          4,
          3,
          2,
          1
         ],
         "y": [
          0.4388045695634435,
          0.13922922521075876,
          -0.029369703888522725,
          -0.13694890492021644,
          -0.1875247703116555,
          -0.21664987771006924,
          -0.23596949236056294,
          -0.24389094329329175,
          -0.2561656152904623,
          -0.25470643056849956,
          0.1969310092458035,
          0.18679467564259478,
          0.20049612637847924,
          0.2152895894428152,
          0.25064789377289354,
          0.2864091655470965,
          0.3309469696969697,
          0.4133429858429858,
          0.5360159817351599,
          0.7227316084919596
         ],
         "type": "scatter",
         "xaxis": "x",
         "yaxis": "y"
        },
        {
         "fill": "toself",
         "fillcolor": "rgba(231,107,243,0.5)",
         "legendgroup": "anticorrelated",
         "line": {
          "color": "rgba(255,255,255,0)"
         },
         "name": "Anti-correlated Fill",
         "showlegend": false,
         "x": [
          1,
          2,
          3,
          4,
          5,
          6,
          7,
          8,
          9,
          10,
          10,
          9,
          8,
          7,
          6,
          5,
          4,
          3,
          2,
          1
         ],
         "y": [
          -0.7213936466110379,
          0.1768462891530282,
          -0.43,
          -0.10005602240896358,
          -0.3105458529565673,
          -0.16584674525260634,
          -0.27000680272108846,
          -0.20134946286206798,
          -0.25093637454981993,
          -0.22,
          0.23018016604973096,
          0.19075860934498187,
          0.2470516183843225,
          0.18858974358974354,
          0.28008803521408565,
          0.12999999999999998,
          0.35972789115646253,
          -0.01041616646658663,
          0.5392307692307692,
          -0.4722828169729431
         ],
         "type": "scatter",
         "xaxis": "x",
         "yaxis": "y"
        },
        {
         "legendgroup": "random",
         "line": {
          "color": "rgba(0,100,80,0.5)"
         },
         "mode": "lines",
         "name": "Random",
         "x": [
          1,
          2,
          3,
          4,
          5,
          6,
          7,
          8,
          9,
          10
         ],
         "y": [
          -0.01245841439438387,
          -0.002435897435897435,
          -0.011666666666666697,
          -0.01050505050505049,
          -0.01002400960384153,
          -0.002625451625853055,
          -0.007922077922077912,
          -0.0039020473705339326,
          -0.01511457408285988,
          -0.013636363636363644
         ],
         "type": "scatter",
         "xaxis": "x",
         "yaxis": "y"
        },
        {
         "legendgroup": "correlated",
         "line": {
          "color": "rgba(0,176,246,0.5)"
         },
         "mode": "lines",
         "name": "Correlated",
         "x": [
          1,
          2,
          3,
          4,
          5,
          6,
          7,
          8,
          9,
          10
         ],
         "y": [
          0.5859915406654537,
          0.3373076923076924,
          0.17772727272727273,
          0.08919388176932612,
          0.0356415231627456,
          0.0026821885838279463,
          -0.01051529790660223,
          -0.024071604071604056,
          -0.030000000000000013,
          -0.031446039340776194
         ],
         "type": "scatter",
         "xaxis": "x",
         "yaxis": "y"
        },
        {
         "legendgroup": "anticorrelated",
         "line": {
          "color": "rgba(231,107,243,0.5)"
         },
         "mode": "lines",
         "name": "Anti-correlated",
         "x": [
          1,
          2,
          3,
          4,
          5,
          6,
          7,
          8,
          9,
          10
         ],
         "y": [
          -0.5957808109193095,
          0.35814102564102557,
          -0.21462331704926788,
          0.12,
          -0.08999999999999998,
          0.05839743589743589,
          -0.050448179271708665,
          0.020000000000000007,
          -0.029999999999999968,
          3.2051282051282084E-4
         ],
         "type": "scatter",
         "xaxis": "x",
         "yaxis": "y"
        }
       ],
       "layout": {
        "template": {
         "data": {
          "histogram2dcontour": [
           {
            "type": "histogram2dcontour",
            "colorbar": {
             "outlinewidth": 0,
             "ticks": ""
            },
            "colorscale": [
             [
              0.0,
              "#0d0887"
             ],
             [
              0.1111111111111111,
              "#46039f"
             ],
             [
              0.2222222222222222,
              "#7201a8"
             ],
             [
              0.3333333333333333,
              "#9c179e"
             ],
             [
              0.4444444444444444,
              "#bd3786"
             ],
             [
              0.5555555555555556,
              "#d8576b"
             ],
             [
              0.6666666666666666,
              "#ed7953"
             ],
             [
              0.7777777777777778,
              "#fb9f3a"
             ],
             [
              0.8888888888888888,
              "#fdca26"
             ],
             [
              1.0,
              "#f0f921"
             ]
            ]
           }
          ],
          "choropleth": [
           {
            "type": "choropleth",
            "colorbar": {
             "outlinewidth": 0,
             "ticks": ""
            }
           }
          ],
          "histogram2d": [
           {
            "type": "histogram2d",
            "colorbar": {
             "outlinewidth": 0,
             "ticks": ""
            },
            "colorscale": [
             [
              0.0,
              "#0d0887"
             ],
             [
              0.1111111111111111,
              "#46039f"
             ],
             [
              0.2222222222222222,
              "#7201a8"
             ],
             [
              0.3333333333333333,
              "#9c179e"
             ],
             [
              0.4444444444444444,
              "#bd3786"
             ],
             [
              0.5555555555555556,
              "#d8576b"
             ],
             [
              0.6666666666666666,
              "#ed7953"
             ],
             [
              0.7777777777777778,
              "#fb9f3a"
             ],
             [
              0.8888888888888888,
              "#fdca26"
             ],
             [
              1.0,
              "#f0f921"
             ]
            ]
           }
          ],
          "heatmap": [
           {
            "type": "heatmap",
            "colorbar": {
             "outlinewidth": 0,
             "ticks": ""
            },
            "colorscale": [
             [
              0.0,
              "#0d0887"
             ],
             [
              0.1111111111111111,
              "#46039f"
             ],
             [
              0.2222222222222222,
              "#7201a8"
             ],
             [
              0.3333333333333333,
              "#9c179e"
             ],
             [
              0.4444444444444444,
              "#bd3786"
             ],
             [
              0.5555555555555556,
              "#d8576b"
             ],
             [
              0.6666666666666666,
              "#ed7953"
             ],
             [
              0.7777777777777778,
              "#fb9f3a"
             ],
             [
              0.8888888888888888,
              "#fdca26"
             ],
             [
              1.0,
              "#f0f921"
             ]
            ]
           }
          ],
          "heatmapgl": [
           {
            "type": "heatmapgl",
            "colorbar": {
             "outlinewidth": 0,
             "ticks": ""
            },
            "colorscale": [
             [
              0.0,
              "#0d0887"
             ],
             [
              0.1111111111111111,
              "#46039f"
             ],
             [
              0.2222222222222222,
              "#7201a8"
             ],
             [
              0.3333333333333333,
              "#9c179e"
             ],
             [
              0.4444444444444444,
              "#bd3786"
             ],
             [
              0.5555555555555556,
              "#d8576b"
             ],
             [
              0.6666666666666666,
              "#ed7953"
             ],
             [
              0.7777777777777778,
              "#fb9f3a"
             ],
             [
              0.8888888888888888,
              "#fdca26"
             ],
             [
              1.0,
              "#f0f921"
             ]
            ]
           }
          ],
          "contourcarpet": [
           {
            "type": "contourcarpet",
            "colorbar": {
             "outlinewidth": 0,
             "ticks": ""
            }
           }
          ],
          "contour": [
           {
            "type": "contour",
            "colorbar": {
             "outlinewidth": 0,
             "ticks": ""
            },
            "colorscale": [
             [
              0.0,
              "#0d0887"
             ],
             [
              0.1111111111111111,
              "#46039f"
             ],
             [
              0.2222222222222222,
              "#7201a8"
             ],
             [
              0.3333333333333333,
              "#9c179e"
             ],
             [
              0.4444444444444444,
              "#bd3786"
             ],
             [
              0.5555555555555556,
              "#d8576b"
             ],
             [
              0.6666666666666666,
              "#ed7953"
             ],
             [
              0.7777777777777778,
              "#fb9f3a"
             ],
             [
              0.8888888888888888,
              "#fdca26"
             ],
             [
              1.0,
              "#f0f921"
             ]
            ]
           }
          ],
          "surface": [
           {
            "type": "surface",
            "colorbar": {
             "outlinewidth": 0,
             "ticks": ""
            },
            "colorscale": [
             [
              0.0,
              "#0d0887"
             ],
             [
              0.1111111111111111,
              "#46039f"
             ],
             [
              0.2222222222222222,
              "#7201a8"
             ],
             [
              0.3333333333333333,
              "#9c179e"
             ],
             [
              0.4444444444444444,
              "#bd3786"
             ],
             [
              0.5555555555555556,
              "#d8576b"
             ],
             [
              0.6666666666666666,
              "#ed7953"
             ],
             [
              0.7777777777777778,
              "#fb9f3a"
             ],
             [
              0.8888888888888888,
              "#fdca26"
             ],
             [
              1.0,
              "#f0f921"
             ]
            ]
           }
          ],
          "mesh3d": [
           {
            "type": "mesh3d",
            "colorbar": {
             "outlinewidth": 0,
             "ticks": ""
            }
           }
          ],
          "scatter": [
           {
            "fillpattern": {
             "fillmode": "overlay",
             "size": 10,
             "solidity": 0.2
            },
            "type": "scatter"
           }
          ],
          "parcoords": [
           {
            "type": "parcoords",
            "line": {
             "colorbar": {
              "outlinewidth": 0,
              "ticks": ""
             }
            }
           }
          ],
          "scatterpolargl": [
           {
            "type": "scatterpolargl",
            "marker": {
             "colorbar": {
              "outlinewidth": 0,
              "ticks": ""
             }
            }
           }
          ],
          "bar": [
           {
            "error_x": {
             "color": "#2a3f5f"
            },
            "error_y": {
             "color": "#2a3f5f"
            },
            "marker": {
             "line": {
              "color": "#E5ECF6",
              "width": 0.5
             },
             "pattern": {
              "fillmode": "overlay",
              "size": 10,
              "solidity": 0.2
             }
            },
            "type": "bar"
           }
          ],
          "scattergeo": [
           {
            "type": "scattergeo",
            "marker": {
             "colorbar": {
              "outlinewidth": 0,
              "ticks": ""
             }
            }
           }
          ],
          "scatterpolar": [
           {
            "type": "scatterpolar",
            "marker": {
             "colorbar": {
              "outlinewidth": 0,
              "ticks": ""
             }
            }
           }
          ],
          "histogram": [
           {
            "marker": {
             "pattern": {
              "fillmode": "overlay",
              "size": 10,
              "solidity": 0.2
             }
            },
            "type": "histogram"
           }
          ],
          "scattergl": [
           {
            "type": "scattergl",
            "marker": {
             "colorbar": {
              "outlinewidth": 0,
              "ticks": ""
             }
            }
           }
          ],
          "scatter3d": [
           {
            "type": "scatter3d",
            "line": {
             "colorbar": {
              "outlinewidth": 0,
              "ticks": ""
             }
            },
            "marker": {
             "colorbar": {
              "outlinewidth": 0,
              "ticks": ""
             }
            }
           }
          ],
          "scattermapbox": [
           {
            "type": "scattermapbox",
            "marker": {
             "colorbar": {
              "outlinewidth": 0,
              "ticks": ""
             }
            }
           }
          ],
          "scatterternary": [
           {
            "type": "scatterternary",
            "marker": {
             "colorbar": {
              "outlinewidth": 0,
              "ticks": ""
             }
            }
           }
          ],
          "scattercarpet": [
           {
            "type": "scattercarpet",
            "marker": {
             "colorbar": {
              "outlinewidth": 0,
              "ticks": ""
             }
            }
           }
          ],
          "carpet": [
           {
            "aaxis": {
             "endlinecolor": "#2a3f5f",
             "gridcolor": "white",
             "linecolor": "white",
             "minorgridcolor": "white",
             "startlinecolor": "#2a3f5f"
            },
            "baxis": {
             "endlinecolor": "#2a3f5f",
             "gridcolor": "white",
             "linecolor": "white",
             "minorgridcolor": "white",
             "startlinecolor": "#2a3f5f"
            },
            "type": "carpet"
           }
          ],
          "table": [
           {
            "cells": {
             "fill": {
              "color": "#EBF0F8"
             },
             "line": {
              "color": "white"
             }
            },
            "header": {
             "fill": {
              "color": "#C8D4E3"
             },
             "line": {
              "color": "white"
             }
            },
            "type": "table"
           }
          ],
          "barpolar": [
           {
            "marker": {
             "line": {
              "color": "#E5ECF6",
              "width": 0.5
             },
             "pattern": {
              "fillmode": "overlay",
              "size": 10,
              "solidity": 0.2
             }
            },
            "type": "barpolar"
           }
          ],
          "pie": [
           {
            "automargin": true,
            "type": "pie"
           }
          ]
         },
         "layout": {
          "autotypenumbers": "strict",
          "colorway": [
           "#636efa",
           "#EF553B",
           "#00cc96",
           "#ab63fa",
           "#FFA15A",
           "#19d3f3",
           "#FF6692",
           "#B6E880",
           "#FF97FF",
           "#FECB52"
          ],
          "font": {
           "color": "#2a3f5f"
          },
          "hovermode": "closest",
          "hoverlabel": {
           "align": "left"
          },
          "paper_bgcolor": "white",
          "plot_bgcolor": "#E5ECF6",
          "polar": {
           "bgcolor": "#E5ECF6",
           "angularaxis": {
            "gridcolor": "white",
            "linecolor": "white",
            "ticks": ""
           },
           "radialaxis": {
            "gridcolor": "white",
            "linecolor": "white",
            "ticks": ""
           }
          },
          "ternary": {
           "bgcolor": "#E5ECF6",
           "aaxis": {
            "gridcolor": "white",
            "linecolor": "white",
            "ticks": ""
           },
           "baxis": {
            "gridcolor": "white",
            "linecolor": "white",
            "ticks": ""
           },
           "caxis": {
            "gridcolor": "white",
            "linecolor": "white",
            "ticks": ""
           }
          },
          "coloraxis": {
           "colorbar": {
            "outlinewidth": 0,
            "ticks": ""
           }
          },
          "colorscale": {
           "sequential": [
            [
             0.0,
             "#0d0887"
            ],
            [
             0.1111111111111111,
             "#46039f"
            ],
            [
             0.2222222222222222,
             "#7201a8"
            ],
            [
             0.3333333333333333,
             "#9c179e"
            ],
            [
             0.4444444444444444,
             "#bd3786"
            ],
            [
             0.5555555555555556,
             "#d8576b"
            ],
            [
             0.6666666666666666,
             "#ed7953"
            ],
            [
             0.7777777777777778,
             "#fb9f3a"
            ],
            [
             0.8888888888888888,
             "#fdca26"
            ],
            [
             1.0,
             "#f0f921"
            ]
           ],
           "sequentialminus": [
            [
             0.0,
             "#0d0887"
            ],
            [
             0.1111111111111111,
             "#46039f"
            ],
            [
             0.2222222222222222,
             "#7201a8"
            ],
            [
             0.3333333333333333,
             "#9c179e"
            ],
            [
             0.4444444444444444,
             "#bd3786"
            ],
            [
             0.5555555555555556,
             "#d8576b"
            ],
            [
             0.6666666666666666,
             "#ed7953"
            ],
            [
             0.7777777777777778,
             "#fb9f3a"
            ],
            [
             0.8888888888888888,
             "#fdca26"
            ],
            [
             1.0,
             "#f0f921"
            ]
           ],
           "diverging": [
            [
             0,
             "#8e0152"
            ],
            [
             0.1,
             "#c51b7d"
            ],
            [
             0.2,
             "#de77ae"
            ],
            [
             0.3,
             "#f1b6da"
            ],
            [
             0.4,
             "#fde0ef"
            ],
            [
             0.5,
             "#f7f7f7"
            ],
            [
             0.6,
             "#e6f5d0"
            ],
            [
             0.7,
             "#b8e186"
            ],
            [
             0.8,
             "#7fbc41"
            ],
            [
             0.9,
             "#4d9221"
            ],
            [
             1,
             "#276419"
            ]
           ]
          },
          "xaxis": {
           "gridcolor": "white",
           "linecolor": "white",
           "ticks": "",
           "title": {
            "standoff": 15
           },
           "zerolinecolor": "white",
           "automargin": true,
           "zerolinewidth": 2
          },
          "yaxis": {
           "gridcolor": "white",
           "linecolor": "white",
           "ticks": "",
           "title": {
            "standoff": 15
           },
           "zerolinecolor": "white",
           "automargin": true,
           "zerolinewidth": 2
          },
          "scene": {
           "xaxis": {
            "backgroundcolor": "#E5ECF6",
            "gridcolor": "white",
            "linecolor": "white",
            "showbackground": true,
            "ticks": "",
            "zerolinecolor": "white",
            "gridwidth": 2
           },
           "yaxis": {
            "backgroundcolor": "#E5ECF6",
            "gridcolor": "white",
            "linecolor": "white",
            "showbackground": true,
            "ticks": "",
            "zerolinecolor": "white",
            "gridwidth": 2
           },
           "zaxis": {
            "backgroundcolor": "#E5ECF6",
            "gridcolor": "white",
            "linecolor": "white",
            "showbackground": true,
            "ticks": "",
            "zerolinecolor": "white",
            "gridwidth": 2
           }
          },
          "shapedefaults": {
           "line": {
            "color": "#2a3f5f"
           }
          },
          "annotationdefaults": {
           "arrowcolor": "#2a3f5f",
           "arrowhead": 0,
           "arrowwidth": 1
          },
          "geo": {
           "bgcolor": "white",
           "landcolor": "#E5ECF6",
           "subunitcolor": "white",
           "showland": true,
           "showlakes": true,
           "lakecolor": "white"
          },
          "title": {
           "x": 0.05
          },
          "mapbox": {
           "style": "light"
          }
         }
        },
        "xaxis": {
         "anchor": "y",
         "domain": [
          0.0,
          0.5850000000000001
         ],
         "range": [
          1,
          8
         ],
         "title": {
          "text": "Lag between games"
         },
         "minor": {
          "showgrid": true
         },
         "showgrid": true
        },
        "yaxis": {
         "anchor": "x",
         "domain": [
          0.0,
          1.0
         ],
         "range": [
          -1,
          1
         ],
         "title": {
          "text": "Correlation coefficient",
          "standoff": 0
         },
         "minor": {
          "showgrid": true
         },
         "showgrid": true
        },
        "xaxis2": {
         "anchor": "y2",
         "domain": [
          0.685,
          1.0
         ],
         "showticklabels": false
        },
        "yaxis2": {
         "anchor": "x2",
         "domain": [
          0.7777777777777778,
          1.0
         ],
         "showticklabels": false
        },
        "xaxis3": {
         "anchor": "y3",
         "domain": [
          0.685,
          1.0
         ],
         "showticklabels": false
        },
        "yaxis3": {
         "anchor": "x3",
         "domain": [
          0.3888888888888889,
          0.6111111111111112
         ],
         "showticklabels": false
        },
        "xaxis4": {
         "anchor": "y4",
         "domain": [
          0.685,
          1.0
         ],
         "showticklabels": false
        },
        "yaxis4": {
         "anchor": "x4",
         "domain": [
          0.0,
          0.22222222222222224
         ],
         "showticklabels": false
        },
        "annotations": [
         {
          "font": {
           "size": 16
          },
          "showarrow": false,
          "text": "Random",
          "x": 0.8425,
          "xanchor": "center",
          "xref": "paper",
          "y": 1.0,
          "yanchor": "bottom",
          "yref": "paper"
         },
         {
          "font": {
           "size": 16
          },
          "showarrow": false,
          "text": "Correlated",
          "x": 0.8425,
          "xanchor": "center",
          "xref": "paper",
          "y": 0.6111111111111112,
          "yanchor": "bottom",
          "yref": "paper"
         },
         {
          "font": {
           "size": 16
          },
          "showarrow": false,
          "text": "Anti-correlated",
          "x": 0.8425,
          "xanchor": "center",
          "xref": "paper",
          "y": 0.22222222222222224,
          "yanchor": "bottom",
          "yref": "paper"
         }
        ],
        "showlegend": true,
        "margin": {
         "l": 20,
         "r": 20,
         "t": 20,
         "b": 20
        },
        "legend": {
         "orientation": "h",
         "yanchor": "bottom",
         "y": 1.02,
         "xanchor": "right",
         "x": 0.6
        },
        "width": 700,
        "height": 266.6666666666667
       },
       "config": {
        "plotlyServerURL": "https://plot.ly"
       }
      },
      "text/html": "<div>                            <div id=\"1fc73969-b7f1-43bb-9a2d-be50fa9fd96a\" class=\"plotly-graph-div\" style=\"height:266.6666666666667px; width:700px;\"></div>            <script type=\"text/javascript\">                require([\"plotly\"], function(Plotly) {                    window.PLOTLYENV=window.PLOTLYENV || {};                                    if (document.getElementById(\"1fc73969-b7f1-43bb-9a2d-be50fa9fd96a\")) {                    Plotly.newPlot(                        \"1fc73969-b7f1-43bb-9a2d-be50fa9fd96a\",                        [{\"colorscale\":[[0,\"mediumvioletred\"],[1,\"mediumseagreen\"]],\"showscale\":false,\"z\":[[0,1,1,1,1,1,1,0,1,0,0,1,1,1,1,0,0,0,1,1,0,0,0,0,1,1,0,0,1,1,1,0,1,0,0,0,0,0,0,1,1,1,1,1,0,0,0,1,0,0,1,0,0,1,1,1,0,0,1],[0,1,1,1,1,1,0,1,1,1,0,0,0,1,1,0,1,0,0,0,1,1,0,1,0,0,1,1,0,1,0,0,1,1,0,1,1,1,0,1,0,1,1,1,0,1,0,1,1,0,0,1,1,0,1,0,1,0,1],[1,0,1,0,1,0,0,0,0,0,1,0,1,1,0,0,0,1,0,1,1,1,1,1,1,0,0,0,1,0,0,0,0,1,0,0,0,1,1,1,1,1,0,1,1,1,0,0,0,1,1,0,0,0,0,1,1,0,0],[0,0,1,0,0,1,0,1,1,1,0,0,0,1,0,0,0,1,1,0,0,1,1,0,1,0,0,1,1,1,0,0,1,0,1,0,1,0,0,1,1,1,1,1,0,0,1,0,1,0,0,0,0,0,1,1,0,1,1],[1,1,1,1,1,1,0,1,1,1,0,1,0,1,0,1,1,1,1,1,1,0,1,1,1,0,1,0,0,1,0,1,0,0,1,1,1,1,0,1,0,0,1,0,1,0,0,1,1,0,0,1,0,1,1,0,0,0,1],[1,0,1,1,1,1,0,1,1,0,0,1,0,1,0,0,0,1,1,1,0,0,1,1,1,0,0,0,1,1,0,0,1,0,1,1,1,1,0,0,1,0,0,0,0,0,1,0,1,1,0,0,1,0,1,1,1,0,1],[1,1,0,1,1,0,0,1,0,0,0,1,1,1,0,0,0,1,0,1,1,0,0,0,1,1,0,1,1,1,1,0,1,0,0,1,1,1,1,1,1,0,0,1,1,1,1,0,1,0,1,0,1,0,1,0,0,0,1],[0,0,1,1,0,0,0,1,1,0,1,0,0,1,1,0,1,1,0,1,0,0,0,0,1,0,0,0,1,0,0,0,0,0,0,1,0,1,1,0,0,1,1,1,1,0,1,1,0,1,1,1,0,1,0,0,1,0,0],[0,0,1,0,1,0,1,1,1,1,1,0,1,0,0,0,0,1,1,0,1,1,1,0,0,1,1,1,1,1,0,1,1,0,1,0,1,1,1,1,1,0,1,0,0,0,0,0,1,0,0,0,1,0,0,0,1,0,1],[1,1,0,0,0,0,1,1,1,0,1,0,1,0,0,1,1,0,1,0,0,1,1,0,0,1,0,1,0,1,1,0,1,0,0,1,0,1,1,0,1,1,1,1,0,0,0,0,1,1,0,1,1,0,0,0,0,1,1]],\"type\":\"heatmap\",\"xaxis\":\"x2\",\"yaxis\":\"y2\"},{\"colorscale\":[[0,\"mediumvioletred\"],[1,\"mediumseagreen\"]],\"showscale\":false,\"z\":[[0,1,1,1,1,1,1,0,0,0,0,1,1,1,0,0,0,0,0,0,0,0,0,0,0,1,1,1,1,1,1,1,1,1,0,0,0,0,0,0,0,0,0,0,0,0,0,0,0,0,1,1,1,1,1,1,1,0,0],[1,1,1,1,1,1,0,1,1,1,1,1,1,1,0,0,0,0,0,0,0,0,1,1,1,1,1,1,1,1,1,1,1,0,0,0,0,0,0,0,0,1,1,0,0,0,0,0,0,0,0,0,0,0,0,0,1,1,1],[0,0,0,0,0,0,0,0,0,1,1,1,1,1,1,1,1,1,0,0,0,1,1,0,0,1,1,1,1,1,1,0,0,0,0,0,0,0,0,0,0,0,0,0,0,0,0,0,1,1,1,1,1,1,1,1,0,1,1],[0,0,0,0,0,0,0,0,0,1,1,1,1,1,0,0,0,0,0,0,0,0,0,1,0,0,0,0,1,1,1,1,1,1,1,0,0,0,0,0,0,0,0,0,0,0,0,1,1,0,1,1,1,1,1,1,1,1,1],[0,0,0,0,0,0,0,0,0,0,0,0,0,0,0,0,0,0,0,0,1,1,0,0,0,0,0,0,1,0,0,0,0,1,1,0,1,1,1,0,0,0,0,0,0,0,0,0,0,0,0,0,0,0,0,0,0,0,0],[0,1,1,0,0,0,0,0,1,0,0,0,1,1,1,1,1,1,0,0,0,1,1,0,0,0,0,0,0,0,0,0,0,0,0,0,1,1,1,1,0,0,0,0,0,0,0,0,0,1,1,0,0,0,0,0,0,0,0],[0,0,0,0,0,0,0,1,0,1,1,1,1,1,1,1,0,1,1,1,1,0,0,0,0,0,1,1,1,1,1,1,1,1,1,1,1,0,0,0,0,0,0,0,0,0,0,0,1,1,1,1,1,1,1,1,1,0,1],[0,0,0,0,0,1,1,1,1,1,1,1,1,1,0,0,0,0,0,0,0,0,1,1,1,1,1,1,1,0,1,1,1,0,0,0,0,0,0,0,0,0,0,0,0,0,0,0,0,1,1,1,0,0,0,1,1,1,1],[0,0,0,1,1,1,1,1,1,1,1,1,1,1,1,1,1,1,0,0,1,0,0,1,1,1,1,1,1,1,1,1,1,1,1,1,0,0,0,0,1,1,1,1,0,0,0,0,0,1,1,1,1,1,1,1,1,0,0],[0,0,0,1,1,1,0,1,1,1,1,1,0,0,0,0,0,0,0,0,0,0,0,0,0,0,0,0,0,0,0,0,1,1,1,1,1,1,1,1,1,0,0,0,0,0,0,0,0,0,1,1,1,1,0,0,0,0,0]],\"type\":\"heatmap\",\"xaxis\":\"x3\",\"yaxis\":\"y3\"},{\"colorscale\":[[0,\"mediumvioletred\"],[1,\"mediumseagreen\"]],\"showscale\":false,\"z\":[[1,0,1,0,0,1,0,1,1,0,1,0,1,0,0,1,0,1,0,1,0,1,0,1,0,1,1,1,0,0,1,1,0,0,1,0,0,1,1,1,0,1,0,1,1,0,0,1,0,0,1,0,1,0,1,0,1,0,1],[0,0,1,1,0,1,0,1,1,0,0,1,1,0,1,0,0,0,1,0,1,1,0,1,0,1,0,1,0,1,1,0,1,0,1,0,1,0,1,0,1,0,1,0,1,0,1,0,1,1,1,0,1,1,0,1,0,0,0],[1,0,1,0,0,1,0,1,1,0,1,0,1,0,0,1,0,1,0,1,0,1,1,1,1,0,1,0,0,1,0,1,0,0,1,0,1,1,0,1,0,1,0,0,0,1,0,1,1,0,1,0,1,0,1,0,1,0,1],[1,0,0,0,0,1,0,1,1,0,1,0,1,0,1,0,1,0,0,1,0,1,0,1,0,0,1,0,0,1,0,1,0,1,0,1,1,0,1,1,0,1,0,1,0,0,1,0,1,0,0,1,0,1,1,1,0,1,0],[0,1,0,1,0,1,1,0,1,1,0,1,1,1,0,1,0,1,0,1,0,1,1,0,1,0,0,1,0,1,1,1,1,0,1,0,1,0,1,0,0,1,1,0,1,0,1,1,0,1,0,1,0,1,0,1,0,1,0],[1,0,1,0,1,1,0,1,0,1,1,0,1,0,1,0,1,1,0,1,0,1,1,0,1,0,1,0,0,1,1,0,1,0,1,0,1,1,0,0,1,0,1,0,1,0,0,1,1,0,1,0,0,1,0,1,1,0,0],[1,1,0,1,1,1,0,1,0,1,0,1,1,0,1,1,0,1,0,1,0,1,0,0,1,1,1,1,0,1,0,0,1,0,1,0,1,0,1,1,0,1,0,0,1,0,1,0,1,0,1,0,1,0,1,0,0,1,1],[1,0,1,0,1,0,1,0,1,0,1,0,0,0,1,0,1,0,1,0,0,0,0,1,0,1,0,1,0,1,0,1,0,1,0,0,1,0,1,0,1,0,1,0,0,0,0,1,0,1,0,0,1,0,1,1,1,0,1],[1,1,1,0,1,0,1,0,1,0,1,0,1,0,1,0,1,0,1,0,1,0,1,0,1,1,0,1,0,1,0,1,0,1,1,0,1,0,1,1,0,1,0,1,0,1,1,0,1,1,1,0,1,0,1,0,1,1,0],[1,0,1,0,1,0,1,0,0,1,0,1,0,1,0,1,0,1,0,1,0,1,0,1,0,1,0,1,0,1,0,0,0,1,0,0,1,0,1,0,1,0,1,0,1,0,0,1,0,0,1,0,0,1,0,0,1,0,1]],\"type\":\"heatmap\",\"xaxis\":\"x4\",\"yaxis\":\"y4\"},{\"fill\":\"toself\",\"fillcolor\":\"rgba(0,100,80,0.5)\",\"legendgroup\":\"random\",\"line\":{\"color\":\"rgba(255,255,255,0)\"},\"name\":\"Random Fill\",\"showlegend\":false,\"x\":[1,2,3,4,5,6,7,8,9,10,10,9,8,7,6,5,4,3,2,1],\"y\":[-0.1730590124448013,-0.1704761904761904,-0.17055233631914296,-0.16797611205219898,-0.1643610110435245,-0.15834190518783545,-0.18123666624023,-0.16492753623188405,-0.1621029858120022,-0.1628205128205128,0.14977560179518562,0.14929487179487178,0.15883153261304522,0.15897110835515124,0.14112856552294326,0.14939102564102558,0.16002240896358536,0.16570759726965545,0.15607085346215782,0.1480971497390606],\"type\":\"scatter\",\"xaxis\":\"x\",\"yaxis\":\"y\"},{\"fill\":\"toself\",\"fillcolor\":\"rgba(0,176,246,0.5)\",\"legendgroup\":\"correlated\",\"line\":{\"color\":\"rgba(255,255,255,0)\"},\"name\":\"Correlated Fill\",\"showlegend\":false,\"x\":[1,2,3,4,5,6,7,8,9,10,10,9,8,7,6,5,4,3,2,1],\"y\":[0.4388045695634435,0.13922922521075876,-0.029369703888522725,-0.13694890492021644,-0.1875247703116555,-0.21664987771006924,-0.23596949236056294,-0.24389094329329175,-0.2561656152904623,-0.25470643056849956,0.1969310092458035,0.18679467564259478,0.20049612637847924,0.2152895894428152,0.25064789377289354,0.2864091655470965,0.3309469696969697,0.4133429858429858,0.5360159817351599,0.7227316084919596],\"type\":\"scatter\",\"xaxis\":\"x\",\"yaxis\":\"y\"},{\"fill\":\"toself\",\"fillcolor\":\"rgba(231,107,243,0.5)\",\"legendgroup\":\"anticorrelated\",\"line\":{\"color\":\"rgba(255,255,255,0)\"},\"name\":\"Anti-correlated Fill\",\"showlegend\":false,\"x\":[1,2,3,4,5,6,7,8,9,10,10,9,8,7,6,5,4,3,2,1],\"y\":[-0.7213936466110379,0.1768462891530282,-0.43,-0.10005602240896358,-0.3105458529565673,-0.16584674525260634,-0.27000680272108846,-0.20134946286206798,-0.25093637454981993,-0.22,0.23018016604973096,0.19075860934498187,0.2470516183843225,0.18858974358974354,0.28008803521408565,0.12999999999999998,0.35972789115646253,-0.01041616646658663,0.5392307692307692,-0.4722828169729431],\"type\":\"scatter\",\"xaxis\":\"x\",\"yaxis\":\"y\"},{\"legendgroup\":\"random\",\"line\":{\"color\":\"rgba(0,100,80,0.5)\"},\"mode\":\"lines\",\"name\":\"Random\",\"x\":[1,2,3,4,5,6,7,8,9,10],\"y\":[-0.01245841439438387,-0.002435897435897435,-0.011666666666666697,-0.01050505050505049,-0.01002400960384153,-0.002625451625853055,-0.007922077922077912,-0.0039020473705339326,-0.01511457408285988,-0.013636363636363644],\"type\":\"scatter\",\"xaxis\":\"x\",\"yaxis\":\"y\"},{\"legendgroup\":\"correlated\",\"line\":{\"color\":\"rgba(0,176,246,0.5)\"},\"mode\":\"lines\",\"name\":\"Correlated\",\"x\":[1,2,3,4,5,6,7,8,9,10],\"y\":[0.5859915406654537,0.3373076923076924,0.17772727272727273,0.08919388176932612,0.0356415231627456,0.0026821885838279463,-0.01051529790660223,-0.024071604071604056,-0.030000000000000013,-0.031446039340776194],\"type\":\"scatter\",\"xaxis\":\"x\",\"yaxis\":\"y\"},{\"legendgroup\":\"anticorrelated\",\"line\":{\"color\":\"rgba(231,107,243,0.5)\"},\"mode\":\"lines\",\"name\":\"Anti-correlated\",\"x\":[1,2,3,4,5,6,7,8,9,10],\"y\":[-0.5957808109193095,0.35814102564102557,-0.21462331704926788,0.12,-0.08999999999999998,0.05839743589743589,-0.050448179271708665,0.020000000000000007,-0.029999999999999968,0.00032051282051282084],\"type\":\"scatter\",\"xaxis\":\"x\",\"yaxis\":\"y\"}],                        {\"template\":{\"data\":{\"histogram2dcontour\":[{\"type\":\"histogram2dcontour\",\"colorbar\":{\"outlinewidth\":0,\"ticks\":\"\"},\"colorscale\":[[0.0,\"#0d0887\"],[0.1111111111111111,\"#46039f\"],[0.2222222222222222,\"#7201a8\"],[0.3333333333333333,\"#9c179e\"],[0.4444444444444444,\"#bd3786\"],[0.5555555555555556,\"#d8576b\"],[0.6666666666666666,\"#ed7953\"],[0.7777777777777778,\"#fb9f3a\"],[0.8888888888888888,\"#fdca26\"],[1.0,\"#f0f921\"]]}],\"choropleth\":[{\"type\":\"choropleth\",\"colorbar\":{\"outlinewidth\":0,\"ticks\":\"\"}}],\"histogram2d\":[{\"type\":\"histogram2d\",\"colorbar\":{\"outlinewidth\":0,\"ticks\":\"\"},\"colorscale\":[[0.0,\"#0d0887\"],[0.1111111111111111,\"#46039f\"],[0.2222222222222222,\"#7201a8\"],[0.3333333333333333,\"#9c179e\"],[0.4444444444444444,\"#bd3786\"],[0.5555555555555556,\"#d8576b\"],[0.6666666666666666,\"#ed7953\"],[0.7777777777777778,\"#fb9f3a\"],[0.8888888888888888,\"#fdca26\"],[1.0,\"#f0f921\"]]}],\"heatmap\":[{\"type\":\"heatmap\",\"colorbar\":{\"outlinewidth\":0,\"ticks\":\"\"},\"colorscale\":[[0.0,\"#0d0887\"],[0.1111111111111111,\"#46039f\"],[0.2222222222222222,\"#7201a8\"],[0.3333333333333333,\"#9c179e\"],[0.4444444444444444,\"#bd3786\"],[0.5555555555555556,\"#d8576b\"],[0.6666666666666666,\"#ed7953\"],[0.7777777777777778,\"#fb9f3a\"],[0.8888888888888888,\"#fdca26\"],[1.0,\"#f0f921\"]]}],\"heatmapgl\":[{\"type\":\"heatmapgl\",\"colorbar\":{\"outlinewidth\":0,\"ticks\":\"\"},\"colorscale\":[[0.0,\"#0d0887\"],[0.1111111111111111,\"#46039f\"],[0.2222222222222222,\"#7201a8\"],[0.3333333333333333,\"#9c179e\"],[0.4444444444444444,\"#bd3786\"],[0.5555555555555556,\"#d8576b\"],[0.6666666666666666,\"#ed7953\"],[0.7777777777777778,\"#fb9f3a\"],[0.8888888888888888,\"#fdca26\"],[1.0,\"#f0f921\"]]}],\"contourcarpet\":[{\"type\":\"contourcarpet\",\"colorbar\":{\"outlinewidth\":0,\"ticks\":\"\"}}],\"contour\":[{\"type\":\"contour\",\"colorbar\":{\"outlinewidth\":0,\"ticks\":\"\"},\"colorscale\":[[0.0,\"#0d0887\"],[0.1111111111111111,\"#46039f\"],[0.2222222222222222,\"#7201a8\"],[0.3333333333333333,\"#9c179e\"],[0.4444444444444444,\"#bd3786\"],[0.5555555555555556,\"#d8576b\"],[0.6666666666666666,\"#ed7953\"],[0.7777777777777778,\"#fb9f3a\"],[0.8888888888888888,\"#fdca26\"],[1.0,\"#f0f921\"]]}],\"surface\":[{\"type\":\"surface\",\"colorbar\":{\"outlinewidth\":0,\"ticks\":\"\"},\"colorscale\":[[0.0,\"#0d0887\"],[0.1111111111111111,\"#46039f\"],[0.2222222222222222,\"#7201a8\"],[0.3333333333333333,\"#9c179e\"],[0.4444444444444444,\"#bd3786\"],[0.5555555555555556,\"#d8576b\"],[0.6666666666666666,\"#ed7953\"],[0.7777777777777778,\"#fb9f3a\"],[0.8888888888888888,\"#fdca26\"],[1.0,\"#f0f921\"]]}],\"mesh3d\":[{\"type\":\"mesh3d\",\"colorbar\":{\"outlinewidth\":0,\"ticks\":\"\"}}],\"scatter\":[{\"fillpattern\":{\"fillmode\":\"overlay\",\"size\":10,\"solidity\":0.2},\"type\":\"scatter\"}],\"parcoords\":[{\"type\":\"parcoords\",\"line\":{\"colorbar\":{\"outlinewidth\":0,\"ticks\":\"\"}}}],\"scatterpolargl\":[{\"type\":\"scatterpolargl\",\"marker\":{\"colorbar\":{\"outlinewidth\":0,\"ticks\":\"\"}}}],\"bar\":[{\"error_x\":{\"color\":\"#2a3f5f\"},\"error_y\":{\"color\":\"#2a3f5f\"},\"marker\":{\"line\":{\"color\":\"#E5ECF6\",\"width\":0.5},\"pattern\":{\"fillmode\":\"overlay\",\"size\":10,\"solidity\":0.2}},\"type\":\"bar\"}],\"scattergeo\":[{\"type\":\"scattergeo\",\"marker\":{\"colorbar\":{\"outlinewidth\":0,\"ticks\":\"\"}}}],\"scatterpolar\":[{\"type\":\"scatterpolar\",\"marker\":{\"colorbar\":{\"outlinewidth\":0,\"ticks\":\"\"}}}],\"histogram\":[{\"marker\":{\"pattern\":{\"fillmode\":\"overlay\",\"size\":10,\"solidity\":0.2}},\"type\":\"histogram\"}],\"scattergl\":[{\"type\":\"scattergl\",\"marker\":{\"colorbar\":{\"outlinewidth\":0,\"ticks\":\"\"}}}],\"scatter3d\":[{\"type\":\"scatter3d\",\"line\":{\"colorbar\":{\"outlinewidth\":0,\"ticks\":\"\"}},\"marker\":{\"colorbar\":{\"outlinewidth\":0,\"ticks\":\"\"}}}],\"scattermapbox\":[{\"type\":\"scattermapbox\",\"marker\":{\"colorbar\":{\"outlinewidth\":0,\"ticks\":\"\"}}}],\"scatterternary\":[{\"type\":\"scatterternary\",\"marker\":{\"colorbar\":{\"outlinewidth\":0,\"ticks\":\"\"}}}],\"scattercarpet\":[{\"type\":\"scattercarpet\",\"marker\":{\"colorbar\":{\"outlinewidth\":0,\"ticks\":\"\"}}}],\"carpet\":[{\"aaxis\":{\"endlinecolor\":\"#2a3f5f\",\"gridcolor\":\"white\",\"linecolor\":\"white\",\"minorgridcolor\":\"white\",\"startlinecolor\":\"#2a3f5f\"},\"baxis\":{\"endlinecolor\":\"#2a3f5f\",\"gridcolor\":\"white\",\"linecolor\":\"white\",\"minorgridcolor\":\"white\",\"startlinecolor\":\"#2a3f5f\"},\"type\":\"carpet\"}],\"table\":[{\"cells\":{\"fill\":{\"color\":\"#EBF0F8\"},\"line\":{\"color\":\"white\"}},\"header\":{\"fill\":{\"color\":\"#C8D4E3\"},\"line\":{\"color\":\"white\"}},\"type\":\"table\"}],\"barpolar\":[{\"marker\":{\"line\":{\"color\":\"#E5ECF6\",\"width\":0.5},\"pattern\":{\"fillmode\":\"overlay\",\"size\":10,\"solidity\":0.2}},\"type\":\"barpolar\"}],\"pie\":[{\"automargin\":true,\"type\":\"pie\"}]},\"layout\":{\"autotypenumbers\":\"strict\",\"colorway\":[\"#636efa\",\"#EF553B\",\"#00cc96\",\"#ab63fa\",\"#FFA15A\",\"#19d3f3\",\"#FF6692\",\"#B6E880\",\"#FF97FF\",\"#FECB52\"],\"font\":{\"color\":\"#2a3f5f\"},\"hovermode\":\"closest\",\"hoverlabel\":{\"align\":\"left\"},\"paper_bgcolor\":\"white\",\"plot_bgcolor\":\"#E5ECF6\",\"polar\":{\"bgcolor\":\"#E5ECF6\",\"angularaxis\":{\"gridcolor\":\"white\",\"linecolor\":\"white\",\"ticks\":\"\"},\"radialaxis\":{\"gridcolor\":\"white\",\"linecolor\":\"white\",\"ticks\":\"\"}},\"ternary\":{\"bgcolor\":\"#E5ECF6\",\"aaxis\":{\"gridcolor\":\"white\",\"linecolor\":\"white\",\"ticks\":\"\"},\"baxis\":{\"gridcolor\":\"white\",\"linecolor\":\"white\",\"ticks\":\"\"},\"caxis\":{\"gridcolor\":\"white\",\"linecolor\":\"white\",\"ticks\":\"\"}},\"coloraxis\":{\"colorbar\":{\"outlinewidth\":0,\"ticks\":\"\"}},\"colorscale\":{\"sequential\":[[0.0,\"#0d0887\"],[0.1111111111111111,\"#46039f\"],[0.2222222222222222,\"#7201a8\"],[0.3333333333333333,\"#9c179e\"],[0.4444444444444444,\"#bd3786\"],[0.5555555555555556,\"#d8576b\"],[0.6666666666666666,\"#ed7953\"],[0.7777777777777778,\"#fb9f3a\"],[0.8888888888888888,\"#fdca26\"],[1.0,\"#f0f921\"]],\"sequentialminus\":[[0.0,\"#0d0887\"],[0.1111111111111111,\"#46039f\"],[0.2222222222222222,\"#7201a8\"],[0.3333333333333333,\"#9c179e\"],[0.4444444444444444,\"#bd3786\"],[0.5555555555555556,\"#d8576b\"],[0.6666666666666666,\"#ed7953\"],[0.7777777777777778,\"#fb9f3a\"],[0.8888888888888888,\"#fdca26\"],[1.0,\"#f0f921\"]],\"diverging\":[[0,\"#8e0152\"],[0.1,\"#c51b7d\"],[0.2,\"#de77ae\"],[0.3,\"#f1b6da\"],[0.4,\"#fde0ef\"],[0.5,\"#f7f7f7\"],[0.6,\"#e6f5d0\"],[0.7,\"#b8e186\"],[0.8,\"#7fbc41\"],[0.9,\"#4d9221\"],[1,\"#276419\"]]},\"xaxis\":{\"gridcolor\":\"white\",\"linecolor\":\"white\",\"ticks\":\"\",\"title\":{\"standoff\":15},\"zerolinecolor\":\"white\",\"automargin\":true,\"zerolinewidth\":2},\"yaxis\":{\"gridcolor\":\"white\",\"linecolor\":\"white\",\"ticks\":\"\",\"title\":{\"standoff\":15},\"zerolinecolor\":\"white\",\"automargin\":true,\"zerolinewidth\":2},\"scene\":{\"xaxis\":{\"backgroundcolor\":\"#E5ECF6\",\"gridcolor\":\"white\",\"linecolor\":\"white\",\"showbackground\":true,\"ticks\":\"\",\"zerolinecolor\":\"white\",\"gridwidth\":2},\"yaxis\":{\"backgroundcolor\":\"#E5ECF6\",\"gridcolor\":\"white\",\"linecolor\":\"white\",\"showbackground\":true,\"ticks\":\"\",\"zerolinecolor\":\"white\",\"gridwidth\":2},\"zaxis\":{\"backgroundcolor\":\"#E5ECF6\",\"gridcolor\":\"white\",\"linecolor\":\"white\",\"showbackground\":true,\"ticks\":\"\",\"zerolinecolor\":\"white\",\"gridwidth\":2}},\"shapedefaults\":{\"line\":{\"color\":\"#2a3f5f\"}},\"annotationdefaults\":{\"arrowcolor\":\"#2a3f5f\",\"arrowhead\":0,\"arrowwidth\":1},\"geo\":{\"bgcolor\":\"white\",\"landcolor\":\"#E5ECF6\",\"subunitcolor\":\"white\",\"showland\":true,\"showlakes\":true,\"lakecolor\":\"white\"},\"title\":{\"x\":0.05},\"mapbox\":{\"style\":\"light\"}}},\"xaxis\":{\"anchor\":\"y\",\"domain\":[0.0,0.5850000000000001],\"range\":[1,8],\"title\":{\"text\":\"Lag between games\"},\"minor\":{\"showgrid\":true},\"showgrid\":true},\"yaxis\":{\"anchor\":\"x\",\"domain\":[0.0,1.0],\"range\":[-1,1],\"title\":{\"text\":\"Correlation coefficient\",\"standoff\":0},\"minor\":{\"showgrid\":true},\"showgrid\":true},\"xaxis2\":{\"anchor\":\"y2\",\"domain\":[0.685,1.0],\"showticklabels\":false},\"yaxis2\":{\"anchor\":\"x2\",\"domain\":[0.7777777777777778,1.0],\"showticklabels\":false},\"xaxis3\":{\"anchor\":\"y3\",\"domain\":[0.685,1.0],\"showticklabels\":false},\"yaxis3\":{\"anchor\":\"x3\",\"domain\":[0.3888888888888889,0.6111111111111112],\"showticklabels\":false},\"xaxis4\":{\"anchor\":\"y4\",\"domain\":[0.685,1.0],\"showticklabels\":false},\"yaxis4\":{\"anchor\":\"x4\",\"domain\":[0.0,0.22222222222222224],\"showticklabels\":false},\"annotations\":[{\"font\":{\"size\":16},\"showarrow\":false,\"text\":\"Random\",\"x\":0.8425,\"xanchor\":\"center\",\"xref\":\"paper\",\"y\":1.0,\"yanchor\":\"bottom\",\"yref\":\"paper\"},{\"font\":{\"size\":16},\"showarrow\":false,\"text\":\"Correlated\",\"x\":0.8425,\"xanchor\":\"center\",\"xref\":\"paper\",\"y\":0.6111111111111112,\"yanchor\":\"bottom\",\"yref\":\"paper\"},{\"font\":{\"size\":16},\"showarrow\":false,\"text\":\"Anti-correlated\",\"x\":0.8425,\"xanchor\":\"center\",\"xref\":\"paper\",\"y\":0.22222222222222224,\"yanchor\":\"bottom\",\"yref\":\"paper\"}],\"showlegend\":true,\"margin\":{\"l\":20,\"r\":20,\"t\":20,\"b\":20},\"legend\":{\"orientation\":\"h\",\"yanchor\":\"bottom\",\"y\":1.02,\"xanchor\":\"right\",\"x\":0.6},\"width\":700,\"height\":266.6666666666667},                        {\"responsive\": true}                    ).then(function(){\n                            \nvar gd = document.getElementById('1fc73969-b7f1-43bb-9a2d-be50fa9fd96a');\nvar x = new MutationObserver(function (mutations, observer) {{\n        var display = window.getComputedStyle(gd).display;\n        if (!display || display === 'none') {{\n            console.log([gd, 'removed!']);\n            Plotly.purge(gd);\n            observer.disconnect();\n        }}\n}});\n\n// Listen for the removal of the full notebook cells\nvar notebookContainer = gd.closest('#notebook-container');\nif (notebookContainer) {{\n    x.observe(notebookContainer, {childList: true});\n}}\n\n// Listen for the clearing of the current output cell\nvar outputEl = gd.closest('.output');\nif (outputEl) {{\n    x.observe(outputEl, {childList: true});\n}}\n\n                        })                };                });            </script>        </div>"
     },
     "metadata": {},
     "output_type": "display_data"
    }
   ],
   "source": [
    "import plotly.graph_objects as go\n",
    "from plotly.subplots import make_subplots\n",
    "import numpy as np\n",
    "\n",
    "# Assume the data setup as previously mentioned\n",
    "# Separate matrices\n",
    "random_matrix = np.asarray(history_random_list)[0:10, 1:60]\n",
    "correlated_matrix = np.asarray(history_correlated_list)[0:10, 1:60]\n",
    "anticorrelated_matrix = np.asarray(history_anticorrelated_list)[0:10, 1:60]\n",
    "\n",
    "# Define colors for each series for consistency\n",
    "color_random = 'rgba(0,100,80,0.5)'\n",
    "color_correlated = 'rgba(0,176,246,0.5)'\n",
    "color_anticorrelated = 'rgba(231,107,243,0.5)'\n",
    "\n",
    "x_values = np.arange(10) + 1\n",
    "\n",
    "# Adjusted plot code with shared color and linked visibility\n",
    "# Create traces for the medians with legendgroup\n",
    "trace_random = go.Scatter(\n",
    "    x=x_values,\n",
    "    y=np.median(history_random, axis=0),\n",
    "    mode='lines',\n",
    "    name='Random',\n",
    "    line=dict(color=color_random),\n",
    "    legendgroup='random'\n",
    ")\n",
    "\n",
    "trace_correlated = go.Scatter(\n",
    "    x=x_values,\n",
    "    y=np.median(history_correlated, axis=0),\n",
    "    mode='lines',\n",
    "    name='Correlated',\n",
    "    line=dict(color=color_correlated),\n",
    "    legendgroup='correlated'\n",
    ")\n",
    "\n",
    "trace_anticorrelated = go.Scatter(\n",
    "    x=x_values,\n",
    "    y=np.median(history_anticorrelated, axis=0),\n",
    "    mode='lines',\n",
    "    name='Anti-correlated',\n",
    "    line=dict(color=color_anticorrelated),\n",
    "    legendgroup='anticorrelated'\n",
    ")\n",
    "\n",
    "# Create traces for the percentiles fill with the same legendgroup and matching color\n",
    "fill_random = go.Scatter(\n",
    "    x=np.concatenate((x_values, x_values[::-1])),\n",
    "    y=np.concatenate((\n",
    "        np.percentile(history_random, 5, axis=0), \n",
    "        np.percentile(history_random, 95, axis=0)[::-1]\n",
    "    )),\n",
    "    fill='toself',\n",
    "    fillcolor=color_random,\n",
    "    line=dict(color='rgba(255,255,255,0)'),\n",
    "    name='Random Fill',\n",
    "    showlegend=False,\n",
    "    legendgroup='random'\n",
    ")\n",
    "\n",
    "fill_correlated = go.Scatter(\n",
    "    x=np.concatenate((x_values, x_values[::-1])),\n",
    "    y=np.concatenate((\n",
    "        np.percentile(history_correlated, 5, axis=0),\n",
    "        np.percentile(history_correlated, 95, axis=0)[::-1]\n",
    "    )),\n",
    "    fill='toself',\n",
    "    fillcolor=color_correlated,\n",
    "    line=dict(color='rgba(255,255,255,0)'),\n",
    "    name='Correlated Fill',\n",
    "    showlegend=False,\n",
    "    legendgroup='correlated'\n",
    ")\n",
    "\n",
    "fill_anticorrelated = go.Scatter(\n",
    "    x=np.concatenate((x_values, x_values[::-1])),\n",
    "    y=np.concatenate((\n",
    "        np.percentile(history_anticorrelated, 5, axis=0),\n",
    "        np.percentile(history_anticorrelated, 95, axis=0)[::-1]\n",
    "    )),\n",
    "    fill='toself',\n",
    "    fillcolor=color_anticorrelated,\n",
    "    line=dict(color='rgba(255,255,255,0)'),\n",
    "    name='Anti-correlated Fill',\n",
    "    showlegend=False,\n",
    "    legendgroup='anticorrelated'\n",
    ")\n",
    "\n",
    "# Create subplots with 3 rows for matrices and 1 big column for correlation plots\n",
    "fig = make_subplots(\n",
    "    rows=3, cols=2,\n",
    "    column_widths=[0.65, 0.35],\n",
    "    specs=[[{\"type\": \"scatter\", \"rowspan\":3}, {\"type\": \"heatmap\", \"colspan\": 1}],\n",
    "           [None, {\"type\": \"heatmap\", \"colspan\": 1}],\n",
    "           [None, {\"type\": \"heatmap\", \"colspan\": 1}]],\n",
    "    subplot_titles=(\"\", \"Random\", \"Correlated\", \"Anti-correlated\")\n",
    ")\n",
    "\n",
    "# Add heatmaps to the first column\n",
    "fig.add_trace(\n",
    "    go.Heatmap(\n",
    "        z=random_matrix,\n",
    "        colorscale=[[0, 'mediumvioletred'], [1, 'mediumseagreen']],\n",
    "        showscale=False\n",
    "    ),\n",
    "    row=1, col=2\n",
    ")\n",
    "\n",
    "fig.add_trace(\n",
    "    go.Heatmap(\n",
    "        z=correlated_matrix,\n",
    "        colorscale=[[0, 'mediumvioletred'], [1, 'mediumseagreen']],\n",
    "        showscale=False\n",
    "    ),\n",
    "    row=2, col=2\n",
    ")\n",
    "\n",
    "fig.add_trace(\n",
    "    go.Heatmap(\n",
    "        z=anticorrelated_matrix,\n",
    "        colorscale=[[0, 'mediumvioletred'], [1, 'mediumseagreen']],\n",
    "        showscale=False\n",
    "    ),\n",
    "    row=3, col=2\n",
    ")\n",
    "\n",
    "# Add correlation plots to the second column spanning all three rows\n",
    "# Add the fill traces first so they're behind the median traces to the second column\n",
    "fig.add_trace(fill_random, row=1, col=1)\n",
    "fig.add_trace(fill_correlated, row=1, col=1)\n",
    "fig.add_trace(fill_anticorrelated, row=1, col=1)\n",
    "\n",
    "# Add the median traces to the second column\n",
    "fig.add_trace(trace_random, row=1, col=1)\n",
    "fig.add_trace(trace_correlated, row=1, col=1)\n",
    "fig.add_trace(trace_anticorrelated, row=1, col=1)\n",
    "# Update layout for a cleaner look\n",
    "fig.update_layout(\n",
    "    #title_text=\"Vertical Matrix with Right-Side Correlation Traces\",\n",
    "    showlegend=True\n",
    ")\n",
    "\n",
    "# Hide tick labels on heatmaps\n",
    "fig.update_xaxes(showticklabels=False, row=1, col=2)\n",
    "fig.update_xaxes(showticklabels=False, row=2, col=2)\n",
    "fig.update_xaxes(showticklabels=False, row=3, col=2)\n",
    "fig.update_yaxes(showticklabels=False, row=1, col=2)\n",
    "fig.update_yaxes(showticklabels=False, row=2, col=2)\n",
    "fig.update_yaxes(showticklabels=False, row=3, col=2)\n",
    "fig.update_yaxes(range=(-1, 1), row=1, col=1)\n",
    "fig.update_xaxes(range=(1, 8), row=1, col=1)\n",
    "\n",
    "fig['layout']['xaxis1']['title']=\"Lag between games\"\n",
    "fig['layout']['yaxis1']['title']=\"Correlation coefficient\"\n",
    "\n",
    "fig.update_layout(\n",
    "    margin=dict(l=20, r=20, t=20, b=20),\n",
    "    width=700, height=800/3,\n",
    "    legend=dict(\n",
    "        orientation=\"h\",\n",
    "        yanchor=\"bottom\",\n",
    "        y=1.02,\n",
    "        xanchor=\"right\",\n",
    "        x=0.6\n",
    "    )\n",
    ")\n",
    "\n",
    "fig.update_xaxes(showgrid=True, minor=dict(showgrid=True), row=1, col=1)\n",
    "fig.update_yaxes(showgrid=True, minor=dict(showgrid=True), row=1, col=1, title_standoff = 0)\n",
    "\n",
    "# Show the plot\n",
    "fig.show()\n",
    "\n",
    "with open(\"docs/loserQ/assets/simulated_correlation.json\", \"w\") as f:\n",
    "    f.write(fig.to_json())"
   ]
  }
 ],
 "metadata": {
  "kernelspec": {
   "display_name": "Python 3 (ipykernel)",
   "language": "python",
   "name": "python3"
  },
  "language_info": {
   "codemirror_mode": {
    "name": "ipython",
    "version": 3
   },
   "file_extension": ".py",
   "mimetype": "text/x-python",
   "name": "python",
   "nbconvert_exporter": "python",
   "pygments_lexer": "ipython3",
   "version": "3.11.6"
  }
 },
 "nbformat": 4,
 "nbformat_minor": 5
}
